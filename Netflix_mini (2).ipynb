{
 "cells": [
  {
   "cell_type": "code",
   "execution_count": 1,
   "id": "2d75d103",
   "metadata": {},
   "outputs": [],
   "source": [
    "#importing Libraries\n",
    "import numpy as np \n",
    "import pandas as pd\n",
    "import matplotlib.pyplot as plt\n",
    "import plotly.express as px\n",
    "import plotly.io as pio\n",
    "import seaborn as sns"
   ]
  },
  {
   "cell_type": "code",
   "execution_count": 2,
   "id": "57f72437",
   "metadata": {
    "scrolled": true
   },
   "outputs": [
    {
     "data": {
      "text/html": [
       "<div>\n",
       "<style scoped>\n",
       "    .dataframe tbody tr th:only-of-type {\n",
       "        vertical-align: middle;\n",
       "    }\n",
       "\n",
       "    .dataframe tbody tr th {\n",
       "        vertical-align: top;\n",
       "    }\n",
       "\n",
       "    .dataframe thead th {\n",
       "        text-align: right;\n",
       "    }\n",
       "</style>\n",
       "<table border=\"1\" class=\"dataframe\">\n",
       "  <thead>\n",
       "    <tr style=\"text-align: right;\">\n",
       "      <th></th>\n",
       "      <th>show_id</th>\n",
       "      <th>type</th>\n",
       "      <th>title</th>\n",
       "      <th>director</th>\n",
       "      <th>cast</th>\n",
       "      <th>country</th>\n",
       "      <th>date_added</th>\n",
       "      <th>release_year</th>\n",
       "      <th>rating</th>\n",
       "      <th>duration</th>\n",
       "      <th>listed_in</th>\n",
       "      <th>description</th>\n",
       "    </tr>\n",
       "  </thead>\n",
       "  <tbody>\n",
       "    <tr>\n",
       "      <th>0</th>\n",
       "      <td>s1</td>\n",
       "      <td>Movie</td>\n",
       "      <td>Dick Johnson Is Dead</td>\n",
       "      <td>Kirsten Johnson</td>\n",
       "      <td>NaN</td>\n",
       "      <td>United States</td>\n",
       "      <td>September 25, 2021</td>\n",
       "      <td>2020</td>\n",
       "      <td>PG-13</td>\n",
       "      <td>90 min</td>\n",
       "      <td>Documentaries</td>\n",
       "      <td>As her father nears the end of his life, filmm...</td>\n",
       "    </tr>\n",
       "    <tr>\n",
       "      <th>1</th>\n",
       "      <td>s2</td>\n",
       "      <td>TV Show</td>\n",
       "      <td>Blood &amp; Water</td>\n",
       "      <td>NaN</td>\n",
       "      <td>Ama Qamata, Khosi Ngema, Gail Mabalane, Thaban...</td>\n",
       "      <td>South Africa</td>\n",
       "      <td>September 24, 2021</td>\n",
       "      <td>2021</td>\n",
       "      <td>TV-MA</td>\n",
       "      <td>2 Seasons</td>\n",
       "      <td>International TV Shows, TV Dramas, TV Mysteries</td>\n",
       "      <td>After crossing paths at a party, a Cape Town t...</td>\n",
       "    </tr>\n",
       "    <tr>\n",
       "      <th>2</th>\n",
       "      <td>s3</td>\n",
       "      <td>TV Show</td>\n",
       "      <td>Ganglands</td>\n",
       "      <td>Julien Leclercq</td>\n",
       "      <td>Sami Bouajila, Tracy Gotoas, Samuel Jouy, Nabi...</td>\n",
       "      <td>NaN</td>\n",
       "      <td>September 24, 2021</td>\n",
       "      <td>2021</td>\n",
       "      <td>TV-MA</td>\n",
       "      <td>1 Season</td>\n",
       "      <td>Crime TV Shows, International TV Shows, TV Act...</td>\n",
       "      <td>To protect his family from a powerful drug lor...</td>\n",
       "    </tr>\n",
       "    <tr>\n",
       "      <th>3</th>\n",
       "      <td>s4</td>\n",
       "      <td>TV Show</td>\n",
       "      <td>Jailbirds New Orleans</td>\n",
       "      <td>NaN</td>\n",
       "      <td>NaN</td>\n",
       "      <td>NaN</td>\n",
       "      <td>September 24, 2021</td>\n",
       "      <td>2021</td>\n",
       "      <td>TV-MA</td>\n",
       "      <td>1 Season</td>\n",
       "      <td>Docuseries, Reality TV</td>\n",
       "      <td>Feuds, flirtations and toilet talk go down amo...</td>\n",
       "    </tr>\n",
       "    <tr>\n",
       "      <th>4</th>\n",
       "      <td>s5</td>\n",
       "      <td>TV Show</td>\n",
       "      <td>Kota Factory</td>\n",
       "      <td>NaN</td>\n",
       "      <td>Mayur More, Jitendra Kumar, Ranjan Raj, Alam K...</td>\n",
       "      <td>India</td>\n",
       "      <td>September 24, 2021</td>\n",
       "      <td>2021</td>\n",
       "      <td>TV-MA</td>\n",
       "      <td>2 Seasons</td>\n",
       "      <td>International TV Shows, Romantic TV Shows, TV ...</td>\n",
       "      <td>In a city of coaching centers known to train I...</td>\n",
       "    </tr>\n",
       "    <tr>\n",
       "      <th>...</th>\n",
       "      <td>...</td>\n",
       "      <td>...</td>\n",
       "      <td>...</td>\n",
       "      <td>...</td>\n",
       "      <td>...</td>\n",
       "      <td>...</td>\n",
       "      <td>...</td>\n",
       "      <td>...</td>\n",
       "      <td>...</td>\n",
       "      <td>...</td>\n",
       "      <td>...</td>\n",
       "      <td>...</td>\n",
       "    </tr>\n",
       "    <tr>\n",
       "      <th>8802</th>\n",
       "      <td>s8803</td>\n",
       "      <td>Movie</td>\n",
       "      <td>Zodiac</td>\n",
       "      <td>David Fincher</td>\n",
       "      <td>Mark Ruffalo, Jake Gyllenhaal, Robert Downey J...</td>\n",
       "      <td>United States</td>\n",
       "      <td>November 20, 2019</td>\n",
       "      <td>2007</td>\n",
       "      <td>R</td>\n",
       "      <td>158 min</td>\n",
       "      <td>Cult Movies, Dramas, Thrillers</td>\n",
       "      <td>A political cartoonist, a crime reporter and a...</td>\n",
       "    </tr>\n",
       "    <tr>\n",
       "      <th>8803</th>\n",
       "      <td>s8804</td>\n",
       "      <td>TV Show</td>\n",
       "      <td>Zombie Dumb</td>\n",
       "      <td>NaN</td>\n",
       "      <td>NaN</td>\n",
       "      <td>NaN</td>\n",
       "      <td>July 1, 2019</td>\n",
       "      <td>2018</td>\n",
       "      <td>TV-Y7</td>\n",
       "      <td>2 Seasons</td>\n",
       "      <td>Kids' TV, Korean TV Shows, TV Comedies</td>\n",
       "      <td>While living alone in a spooky town, a young g...</td>\n",
       "    </tr>\n",
       "    <tr>\n",
       "      <th>8804</th>\n",
       "      <td>s8805</td>\n",
       "      <td>Movie</td>\n",
       "      <td>Zombieland</td>\n",
       "      <td>Ruben Fleischer</td>\n",
       "      <td>Jesse Eisenberg, Woody Harrelson, Emma Stone, ...</td>\n",
       "      <td>United States</td>\n",
       "      <td>November 1, 2019</td>\n",
       "      <td>2009</td>\n",
       "      <td>R</td>\n",
       "      <td>88 min</td>\n",
       "      <td>Comedies, Horror Movies</td>\n",
       "      <td>Looking to survive in a world taken over by zo...</td>\n",
       "    </tr>\n",
       "    <tr>\n",
       "      <th>8805</th>\n",
       "      <td>s8806</td>\n",
       "      <td>Movie</td>\n",
       "      <td>Zoom</td>\n",
       "      <td>Peter Hewitt</td>\n",
       "      <td>Tim Allen, Courteney Cox, Chevy Chase, Kate Ma...</td>\n",
       "      <td>United States</td>\n",
       "      <td>January 11, 2020</td>\n",
       "      <td>2006</td>\n",
       "      <td>PG</td>\n",
       "      <td>88 min</td>\n",
       "      <td>Children &amp; Family Movies, Comedies</td>\n",
       "      <td>Dragged from civilian life, a former superhero...</td>\n",
       "    </tr>\n",
       "    <tr>\n",
       "      <th>8806</th>\n",
       "      <td>s8807</td>\n",
       "      <td>Movie</td>\n",
       "      <td>Zubaan</td>\n",
       "      <td>Mozez Singh</td>\n",
       "      <td>Vicky Kaushal, Sarah-Jane Dias, Raaghav Chanan...</td>\n",
       "      <td>India</td>\n",
       "      <td>March 2, 2019</td>\n",
       "      <td>2015</td>\n",
       "      <td>TV-14</td>\n",
       "      <td>111 min</td>\n",
       "      <td>Dramas, International Movies, Music &amp; Musicals</td>\n",
       "      <td>A scrappy but poor boy worms his way into a ty...</td>\n",
       "    </tr>\n",
       "  </tbody>\n",
       "</table>\n",
       "<p>8807 rows × 12 columns</p>\n",
       "</div>"
      ],
      "text/plain": [
       "     show_id     type                  title         director  \\\n",
       "0         s1    Movie   Dick Johnson Is Dead  Kirsten Johnson   \n",
       "1         s2  TV Show          Blood & Water              NaN   \n",
       "2         s3  TV Show              Ganglands  Julien Leclercq   \n",
       "3         s4  TV Show  Jailbirds New Orleans              NaN   \n",
       "4         s5  TV Show           Kota Factory              NaN   \n",
       "...      ...      ...                    ...              ...   \n",
       "8802   s8803    Movie                 Zodiac    David Fincher   \n",
       "8803   s8804  TV Show            Zombie Dumb              NaN   \n",
       "8804   s8805    Movie             Zombieland  Ruben Fleischer   \n",
       "8805   s8806    Movie                   Zoom     Peter Hewitt   \n",
       "8806   s8807    Movie                 Zubaan      Mozez Singh   \n",
       "\n",
       "                                                   cast        country  \\\n",
       "0                                                   NaN  United States   \n",
       "1     Ama Qamata, Khosi Ngema, Gail Mabalane, Thaban...   South Africa   \n",
       "2     Sami Bouajila, Tracy Gotoas, Samuel Jouy, Nabi...            NaN   \n",
       "3                                                   NaN            NaN   \n",
       "4     Mayur More, Jitendra Kumar, Ranjan Raj, Alam K...          India   \n",
       "...                                                 ...            ...   \n",
       "8802  Mark Ruffalo, Jake Gyllenhaal, Robert Downey J...  United States   \n",
       "8803                                                NaN            NaN   \n",
       "8804  Jesse Eisenberg, Woody Harrelson, Emma Stone, ...  United States   \n",
       "8805  Tim Allen, Courteney Cox, Chevy Chase, Kate Ma...  United States   \n",
       "8806  Vicky Kaushal, Sarah-Jane Dias, Raaghav Chanan...          India   \n",
       "\n",
       "              date_added  release_year rating   duration  \\\n",
       "0     September 25, 2021          2020  PG-13     90 min   \n",
       "1     September 24, 2021          2021  TV-MA  2 Seasons   \n",
       "2     September 24, 2021          2021  TV-MA   1 Season   \n",
       "3     September 24, 2021          2021  TV-MA   1 Season   \n",
       "4     September 24, 2021          2021  TV-MA  2 Seasons   \n",
       "...                  ...           ...    ...        ...   \n",
       "8802   November 20, 2019          2007      R    158 min   \n",
       "8803        July 1, 2019          2018  TV-Y7  2 Seasons   \n",
       "8804    November 1, 2019          2009      R     88 min   \n",
       "8805    January 11, 2020          2006     PG     88 min   \n",
       "8806       March 2, 2019          2015  TV-14    111 min   \n",
       "\n",
       "                                              listed_in  \\\n",
       "0                                         Documentaries   \n",
       "1       International TV Shows, TV Dramas, TV Mysteries   \n",
       "2     Crime TV Shows, International TV Shows, TV Act...   \n",
       "3                                Docuseries, Reality TV   \n",
       "4     International TV Shows, Romantic TV Shows, TV ...   \n",
       "...                                                 ...   \n",
       "8802                     Cult Movies, Dramas, Thrillers   \n",
       "8803             Kids' TV, Korean TV Shows, TV Comedies   \n",
       "8804                            Comedies, Horror Movies   \n",
       "8805                 Children & Family Movies, Comedies   \n",
       "8806     Dramas, International Movies, Music & Musicals   \n",
       "\n",
       "                                            description  \n",
       "0     As her father nears the end of his life, filmm...  \n",
       "1     After crossing paths at a party, a Cape Town t...  \n",
       "2     To protect his family from a powerful drug lor...  \n",
       "3     Feuds, flirtations and toilet talk go down amo...  \n",
       "4     In a city of coaching centers known to train I...  \n",
       "...                                                 ...  \n",
       "8802  A political cartoonist, a crime reporter and a...  \n",
       "8803  While living alone in a spooky town, a young g...  \n",
       "8804  Looking to survive in a world taken over by zo...  \n",
       "8805  Dragged from civilian life, a former superhero...  \n",
       "8806  A scrappy but poor boy worms his way into a ty...  \n",
       "\n",
       "[8807 rows x 12 columns]"
      ]
     },
     "execution_count": 2,
     "metadata": {},
     "output_type": "execute_result"
    }
   ],
   "source": [
    "#reading the dataset\n",
    "df=pd.read_csv(r\"D:\\TE 6sem\\dsbd\\netflix_titles.csv\")\n",
    "df"
   ]
  },
  {
   "cell_type": "code",
   "execution_count": 3,
   "id": "7b20119e",
   "metadata": {},
   "outputs": [
    {
     "data": {
      "text/plain": [
       "<bound method DataFrame.info of      show_id     type                  title         director  \\\n",
       "0         s1    Movie   Dick Johnson Is Dead  Kirsten Johnson   \n",
       "1         s2  TV Show          Blood & Water              NaN   \n",
       "2         s3  TV Show              Ganglands  Julien Leclercq   \n",
       "3         s4  TV Show  Jailbirds New Orleans              NaN   \n",
       "4         s5  TV Show           Kota Factory              NaN   \n",
       "...      ...      ...                    ...              ...   \n",
       "8802   s8803    Movie                 Zodiac    David Fincher   \n",
       "8803   s8804  TV Show            Zombie Dumb              NaN   \n",
       "8804   s8805    Movie             Zombieland  Ruben Fleischer   \n",
       "8805   s8806    Movie                   Zoom     Peter Hewitt   \n",
       "8806   s8807    Movie                 Zubaan      Mozez Singh   \n",
       "\n",
       "                                                   cast        country  \\\n",
       "0                                                   NaN  United States   \n",
       "1     Ama Qamata, Khosi Ngema, Gail Mabalane, Thaban...   South Africa   \n",
       "2     Sami Bouajila, Tracy Gotoas, Samuel Jouy, Nabi...            NaN   \n",
       "3                                                   NaN            NaN   \n",
       "4     Mayur More, Jitendra Kumar, Ranjan Raj, Alam K...          India   \n",
       "...                                                 ...            ...   \n",
       "8802  Mark Ruffalo, Jake Gyllenhaal, Robert Downey J...  United States   \n",
       "8803                                                NaN            NaN   \n",
       "8804  Jesse Eisenberg, Woody Harrelson, Emma Stone, ...  United States   \n",
       "8805  Tim Allen, Courteney Cox, Chevy Chase, Kate Ma...  United States   \n",
       "8806  Vicky Kaushal, Sarah-Jane Dias, Raaghav Chanan...          India   \n",
       "\n",
       "              date_added  release_year rating   duration  \\\n",
       "0     September 25, 2021          2020  PG-13     90 min   \n",
       "1     September 24, 2021          2021  TV-MA  2 Seasons   \n",
       "2     September 24, 2021          2021  TV-MA   1 Season   \n",
       "3     September 24, 2021          2021  TV-MA   1 Season   \n",
       "4     September 24, 2021          2021  TV-MA  2 Seasons   \n",
       "...                  ...           ...    ...        ...   \n",
       "8802   November 20, 2019          2007      R    158 min   \n",
       "8803        July 1, 2019          2018  TV-Y7  2 Seasons   \n",
       "8804    November 1, 2019          2009      R     88 min   \n",
       "8805    January 11, 2020          2006     PG     88 min   \n",
       "8806       March 2, 2019          2015  TV-14    111 min   \n",
       "\n",
       "                                              listed_in  \\\n",
       "0                                         Documentaries   \n",
       "1       International TV Shows, TV Dramas, TV Mysteries   \n",
       "2     Crime TV Shows, International TV Shows, TV Act...   \n",
       "3                                Docuseries, Reality TV   \n",
       "4     International TV Shows, Romantic TV Shows, TV ...   \n",
       "...                                                 ...   \n",
       "8802                     Cult Movies, Dramas, Thrillers   \n",
       "8803             Kids' TV, Korean TV Shows, TV Comedies   \n",
       "8804                            Comedies, Horror Movies   \n",
       "8805                 Children & Family Movies, Comedies   \n",
       "8806     Dramas, International Movies, Music & Musicals   \n",
       "\n",
       "                                            description  \n",
       "0     As her father nears the end of his life, filmm...  \n",
       "1     After crossing paths at a party, a Cape Town t...  \n",
       "2     To protect his family from a powerful drug lor...  \n",
       "3     Feuds, flirtations and toilet talk go down amo...  \n",
       "4     In a city of coaching centers known to train I...  \n",
       "...                                                 ...  \n",
       "8802  A political cartoonist, a crime reporter and a...  \n",
       "8803  While living alone in a spooky town, a young g...  \n",
       "8804  Looking to survive in a world taken over by zo...  \n",
       "8805  Dragged from civilian life, a former superhero...  \n",
       "8806  A scrappy but poor boy worms his way into a ty...  \n",
       "\n",
       "[8807 rows x 12 columns]>"
      ]
     },
     "execution_count": 3,
     "metadata": {},
     "output_type": "execute_result"
    }
   ],
   "source": [
    "#to get the summary of dataset\n",
    "df.info"
   ]
  },
  {
   "cell_type": "code",
   "execution_count": 4,
   "id": "78791d38",
   "metadata": {},
   "outputs": [
    {
     "data": {
      "text/plain": [
       "(8807, 12)"
      ]
     },
     "execution_count": 4,
     "metadata": {},
     "output_type": "execute_result"
    }
   ],
   "source": [
    "df.shape #gets no. of rows and columns"
   ]
  },
  {
   "cell_type": "code",
   "execution_count": 5,
   "id": "1f048758",
   "metadata": {},
   "outputs": [
    {
     "data": {
      "text/plain": [
       "show_id         object\n",
       "type            object\n",
       "title           object\n",
       "director        object\n",
       "cast            object\n",
       "country         object\n",
       "date_added      object\n",
       "release_year     int64\n",
       "rating          object\n",
       "duration        object\n",
       "listed_in       object\n",
       "description     object\n",
       "dtype: object"
      ]
     },
     "execution_count": 5,
     "metadata": {},
     "output_type": "execute_result"
    }
   ],
   "source": [
    "df.dtypes #defines datatypes "
   ]
  },
  {
   "cell_type": "code",
   "execution_count": 6,
   "id": "134527b4",
   "metadata": {},
   "outputs": [
    {
     "data": {
      "text/html": [
       "<div>\n",
       "<style scoped>\n",
       "    .dataframe tbody tr th:only-of-type {\n",
       "        vertical-align: middle;\n",
       "    }\n",
       "\n",
       "    .dataframe tbody tr th {\n",
       "        vertical-align: top;\n",
       "    }\n",
       "\n",
       "    .dataframe thead th {\n",
       "        text-align: right;\n",
       "    }\n",
       "</style>\n",
       "<table border=\"1\" class=\"dataframe\">\n",
       "  <thead>\n",
       "    <tr style=\"text-align: right;\">\n",
       "      <th></th>\n",
       "      <th>show_id</th>\n",
       "      <th>type</th>\n",
       "      <th>title</th>\n",
       "      <th>country</th>\n",
       "      <th>date_added</th>\n",
       "      <th>release_year</th>\n",
       "      <th>rating</th>\n",
       "      <th>duration</th>\n",
       "      <th>listed_in</th>\n",
       "      <th>description</th>\n",
       "    </tr>\n",
       "  </thead>\n",
       "  <tbody>\n",
       "    <tr>\n",
       "      <th>0</th>\n",
       "      <td>s1</td>\n",
       "      <td>Movie</td>\n",
       "      <td>Dick Johnson Is Dead</td>\n",
       "      <td>United States</td>\n",
       "      <td>September 25, 2021</td>\n",
       "      <td>2020</td>\n",
       "      <td>PG-13</td>\n",
       "      <td>90 min</td>\n",
       "      <td>Documentaries</td>\n",
       "      <td>As her father nears the end of his life, filmm...</td>\n",
       "    </tr>\n",
       "    <tr>\n",
       "      <th>1</th>\n",
       "      <td>s2</td>\n",
       "      <td>TV Show</td>\n",
       "      <td>Blood &amp; Water</td>\n",
       "      <td>South Africa</td>\n",
       "      <td>September 24, 2021</td>\n",
       "      <td>2021</td>\n",
       "      <td>TV-MA</td>\n",
       "      <td>2 Seasons</td>\n",
       "      <td>International TV Shows, TV Dramas, TV Mysteries</td>\n",
       "      <td>After crossing paths at a party, a Cape Town t...</td>\n",
       "    </tr>\n",
       "    <tr>\n",
       "      <th>2</th>\n",
       "      <td>s3</td>\n",
       "      <td>TV Show</td>\n",
       "      <td>Ganglands</td>\n",
       "      <td>NaN</td>\n",
       "      <td>September 24, 2021</td>\n",
       "      <td>2021</td>\n",
       "      <td>TV-MA</td>\n",
       "      <td>1 Season</td>\n",
       "      <td>Crime TV Shows, International TV Shows, TV Act...</td>\n",
       "      <td>To protect his family from a powerful drug lor...</td>\n",
       "    </tr>\n",
       "    <tr>\n",
       "      <th>3</th>\n",
       "      <td>s4</td>\n",
       "      <td>TV Show</td>\n",
       "      <td>Jailbirds New Orleans</td>\n",
       "      <td>NaN</td>\n",
       "      <td>September 24, 2021</td>\n",
       "      <td>2021</td>\n",
       "      <td>TV-MA</td>\n",
       "      <td>1 Season</td>\n",
       "      <td>Docuseries, Reality TV</td>\n",
       "      <td>Feuds, flirtations and toilet talk go down amo...</td>\n",
       "    </tr>\n",
       "    <tr>\n",
       "      <th>4</th>\n",
       "      <td>s5</td>\n",
       "      <td>TV Show</td>\n",
       "      <td>Kota Factory</td>\n",
       "      <td>India</td>\n",
       "      <td>September 24, 2021</td>\n",
       "      <td>2021</td>\n",
       "      <td>TV-MA</td>\n",
       "      <td>2 Seasons</td>\n",
       "      <td>International TV Shows, Romantic TV Shows, TV ...</td>\n",
       "      <td>In a city of coaching centers known to train I...</td>\n",
       "    </tr>\n",
       "  </tbody>\n",
       "</table>\n",
       "</div>"
      ],
      "text/plain": [
       "  show_id     type                  title        country          date_added  \\\n",
       "0      s1    Movie   Dick Johnson Is Dead  United States  September 25, 2021   \n",
       "1      s2  TV Show          Blood & Water   South Africa  September 24, 2021   \n",
       "2      s3  TV Show              Ganglands            NaN  September 24, 2021   \n",
       "3      s4  TV Show  Jailbirds New Orleans            NaN  September 24, 2021   \n",
       "4      s5  TV Show           Kota Factory          India  September 24, 2021   \n",
       "\n",
       "   release_year rating   duration  \\\n",
       "0          2020  PG-13     90 min   \n",
       "1          2021  TV-MA  2 Seasons   \n",
       "2          2021  TV-MA   1 Season   \n",
       "3          2021  TV-MA   1 Season   \n",
       "4          2021  TV-MA  2 Seasons   \n",
       "\n",
       "                                           listed_in  \\\n",
       "0                                      Documentaries   \n",
       "1    International TV Shows, TV Dramas, TV Mysteries   \n",
       "2  Crime TV Shows, International TV Shows, TV Act...   \n",
       "3                             Docuseries, Reality TV   \n",
       "4  International TV Shows, Romantic TV Shows, TV ...   \n",
       "\n",
       "                                         description  \n",
       "0  As her father nears the end of his life, filmm...  \n",
       "1  After crossing paths at a party, a Cape Town t...  \n",
       "2  To protect his family from a powerful drug lor...  \n",
       "3  Feuds, flirtations and toilet talk go down amo...  \n",
       "4  In a city of coaching centers known to train I...  "
      ]
     },
     "execution_count": 6,
     "metadata": {},
     "output_type": "execute_result"
    }
   ],
   "source": [
    "df.drop([\"director\",\"cast\"],axis =1,inplace=True) #deleting director and cast column and displaying the first 5 by head\n",
    "df.head()"
   ]
  },
  {
   "cell_type": "code",
   "execution_count": 7,
   "id": "1e6ce3f5",
   "metadata": {},
   "outputs": [
    {
     "data": {
      "text/plain": [
       "United States                           2818\n",
       "India                                    972\n",
       "United Kingdom                           419\n",
       "Japan                                    245\n",
       "South Korea                              199\n",
       "                                        ... \n",
       "China, Japan                               1\n",
       "Chile, Peru                                1\n",
       "United States, Iceland                     1\n",
       "Puerto Rico, United States, Colombia       1\n",
       "United States, Canada, Japan, Panama       1\n",
       "Name: country, Length: 748, dtype: int64"
      ]
     },
     "execution_count": 7,
     "metadata": {},
     "output_type": "execute_result"
    }
   ],
   "source": [
    "df['country'].value_counts() #displaying the country count"
   ]
  },
  {
   "cell_type": "code",
   "execution_count": 8,
   "id": "43ef5db9",
   "metadata": {},
   "outputs": [
    {
     "data": {
      "text/html": [
       "<div>\n",
       "<style scoped>\n",
       "    .dataframe tbody tr th:only-of-type {\n",
       "        vertical-align: middle;\n",
       "    }\n",
       "\n",
       "    .dataframe tbody tr th {\n",
       "        vertical-align: top;\n",
       "    }\n",
       "\n",
       "    .dataframe thead th {\n",
       "        text-align: right;\n",
       "    }\n",
       "</style>\n",
       "<table border=\"1\" class=\"dataframe\">\n",
       "  <thead>\n",
       "    <tr style=\"text-align: right;\">\n",
       "      <th></th>\n",
       "      <th>show_id</th>\n",
       "      <th>type</th>\n",
       "      <th>title</th>\n",
       "      <th>country</th>\n",
       "      <th>date_added</th>\n",
       "      <th>release_year</th>\n",
       "      <th>rating</th>\n",
       "      <th>duration</th>\n",
       "      <th>listed_in</th>\n",
       "      <th>description</th>\n",
       "    </tr>\n",
       "  </thead>\n",
       "  <tbody>\n",
       "    <tr>\n",
       "      <th>0</th>\n",
       "      <td>s1</td>\n",
       "      <td>Movie</td>\n",
       "      <td>Dick Johnson Is Dead</td>\n",
       "      <td>United States</td>\n",
       "      <td>September 25, 2021</td>\n",
       "      <td>2020</td>\n",
       "      <td>PG-13</td>\n",
       "      <td>90 min</td>\n",
       "      <td>Documentaries</td>\n",
       "      <td>As her father nears the end of his life, filmm...</td>\n",
       "    </tr>\n",
       "    <tr>\n",
       "      <th>1</th>\n",
       "      <td>s2</td>\n",
       "      <td>TV Show</td>\n",
       "      <td>Blood &amp; Water</td>\n",
       "      <td>South Africa</td>\n",
       "      <td>September 24, 2021</td>\n",
       "      <td>2021</td>\n",
       "      <td>TV-MA</td>\n",
       "      <td>2 Seasons</td>\n",
       "      <td>International TV Shows, TV Dramas, TV Mysteries</td>\n",
       "      <td>After crossing paths at a party, a Cape Town t...</td>\n",
       "    </tr>\n",
       "    <tr>\n",
       "      <th>2</th>\n",
       "      <td>s3</td>\n",
       "      <td>TV Show</td>\n",
       "      <td>Ganglands</td>\n",
       "      <td>United States</td>\n",
       "      <td>September 24, 2021</td>\n",
       "      <td>2021</td>\n",
       "      <td>TV-MA</td>\n",
       "      <td>1 Season</td>\n",
       "      <td>Crime TV Shows, International TV Shows, TV Act...</td>\n",
       "      <td>To protect his family from a powerful drug lor...</td>\n",
       "    </tr>\n",
       "    <tr>\n",
       "      <th>3</th>\n",
       "      <td>s4</td>\n",
       "      <td>TV Show</td>\n",
       "      <td>Jailbirds New Orleans</td>\n",
       "      <td>United States</td>\n",
       "      <td>September 24, 2021</td>\n",
       "      <td>2021</td>\n",
       "      <td>TV-MA</td>\n",
       "      <td>1 Season</td>\n",
       "      <td>Docuseries, Reality TV</td>\n",
       "      <td>Feuds, flirtations and toilet talk go down amo...</td>\n",
       "    </tr>\n",
       "    <tr>\n",
       "      <th>4</th>\n",
       "      <td>s5</td>\n",
       "      <td>TV Show</td>\n",
       "      <td>Kota Factory</td>\n",
       "      <td>India</td>\n",
       "      <td>September 24, 2021</td>\n",
       "      <td>2021</td>\n",
       "      <td>TV-MA</td>\n",
       "      <td>2 Seasons</td>\n",
       "      <td>International TV Shows, Romantic TV Shows, TV ...</td>\n",
       "      <td>In a city of coaching centers known to train I...</td>\n",
       "    </tr>\n",
       "    <tr>\n",
       "      <th>...</th>\n",
       "      <td>...</td>\n",
       "      <td>...</td>\n",
       "      <td>...</td>\n",
       "      <td>...</td>\n",
       "      <td>...</td>\n",
       "      <td>...</td>\n",
       "      <td>...</td>\n",
       "      <td>...</td>\n",
       "      <td>...</td>\n",
       "      <td>...</td>\n",
       "    </tr>\n",
       "    <tr>\n",
       "      <th>8802</th>\n",
       "      <td>s8803</td>\n",
       "      <td>Movie</td>\n",
       "      <td>Zodiac</td>\n",
       "      <td>United States</td>\n",
       "      <td>November 20, 2019</td>\n",
       "      <td>2007</td>\n",
       "      <td>R</td>\n",
       "      <td>158 min</td>\n",
       "      <td>Cult Movies, Dramas, Thrillers</td>\n",
       "      <td>A political cartoonist, a crime reporter and a...</td>\n",
       "    </tr>\n",
       "    <tr>\n",
       "      <th>8803</th>\n",
       "      <td>s8804</td>\n",
       "      <td>TV Show</td>\n",
       "      <td>Zombie Dumb</td>\n",
       "      <td>United States</td>\n",
       "      <td>July 1, 2019</td>\n",
       "      <td>2018</td>\n",
       "      <td>TV-Y7</td>\n",
       "      <td>2 Seasons</td>\n",
       "      <td>Kids' TV, Korean TV Shows, TV Comedies</td>\n",
       "      <td>While living alone in a spooky town, a young g...</td>\n",
       "    </tr>\n",
       "    <tr>\n",
       "      <th>8804</th>\n",
       "      <td>s8805</td>\n",
       "      <td>Movie</td>\n",
       "      <td>Zombieland</td>\n",
       "      <td>United States</td>\n",
       "      <td>November 1, 2019</td>\n",
       "      <td>2009</td>\n",
       "      <td>R</td>\n",
       "      <td>88 min</td>\n",
       "      <td>Comedies, Horror Movies</td>\n",
       "      <td>Looking to survive in a world taken over by zo...</td>\n",
       "    </tr>\n",
       "    <tr>\n",
       "      <th>8805</th>\n",
       "      <td>s8806</td>\n",
       "      <td>Movie</td>\n",
       "      <td>Zoom</td>\n",
       "      <td>United States</td>\n",
       "      <td>January 11, 2020</td>\n",
       "      <td>2006</td>\n",
       "      <td>PG</td>\n",
       "      <td>88 min</td>\n",
       "      <td>Children &amp; Family Movies, Comedies</td>\n",
       "      <td>Dragged from civilian life, a former superhero...</td>\n",
       "    </tr>\n",
       "    <tr>\n",
       "      <th>8806</th>\n",
       "      <td>s8807</td>\n",
       "      <td>Movie</td>\n",
       "      <td>Zubaan</td>\n",
       "      <td>India</td>\n",
       "      <td>March 2, 2019</td>\n",
       "      <td>2015</td>\n",
       "      <td>TV-14</td>\n",
       "      <td>111 min</td>\n",
       "      <td>Dramas, International Movies, Music &amp; Musicals</td>\n",
       "      <td>A scrappy but poor boy worms his way into a ty...</td>\n",
       "    </tr>\n",
       "  </tbody>\n",
       "</table>\n",
       "<p>8807 rows × 10 columns</p>\n",
       "</div>"
      ],
      "text/plain": [
       "     show_id     type                  title        country  \\\n",
       "0         s1    Movie   Dick Johnson Is Dead  United States   \n",
       "1         s2  TV Show          Blood & Water   South Africa   \n",
       "2         s3  TV Show              Ganglands  United States   \n",
       "3         s4  TV Show  Jailbirds New Orleans  United States   \n",
       "4         s5  TV Show           Kota Factory          India   \n",
       "...      ...      ...                    ...            ...   \n",
       "8802   s8803    Movie                 Zodiac  United States   \n",
       "8803   s8804  TV Show            Zombie Dumb  United States   \n",
       "8804   s8805    Movie             Zombieland  United States   \n",
       "8805   s8806    Movie                   Zoom  United States   \n",
       "8806   s8807    Movie                 Zubaan          India   \n",
       "\n",
       "              date_added  release_year rating   duration  \\\n",
       "0     September 25, 2021          2020  PG-13     90 min   \n",
       "1     September 24, 2021          2021  TV-MA  2 Seasons   \n",
       "2     September 24, 2021          2021  TV-MA   1 Season   \n",
       "3     September 24, 2021          2021  TV-MA   1 Season   \n",
       "4     September 24, 2021          2021  TV-MA  2 Seasons   \n",
       "...                  ...           ...    ...        ...   \n",
       "8802   November 20, 2019          2007      R    158 min   \n",
       "8803        July 1, 2019          2018  TV-Y7  2 Seasons   \n",
       "8804    November 1, 2019          2009      R     88 min   \n",
       "8805    January 11, 2020          2006     PG     88 min   \n",
       "8806       March 2, 2019          2015  TV-14    111 min   \n",
       "\n",
       "                                              listed_in  \\\n",
       "0                                         Documentaries   \n",
       "1       International TV Shows, TV Dramas, TV Mysteries   \n",
       "2     Crime TV Shows, International TV Shows, TV Act...   \n",
       "3                                Docuseries, Reality TV   \n",
       "4     International TV Shows, Romantic TV Shows, TV ...   \n",
       "...                                                 ...   \n",
       "8802                     Cult Movies, Dramas, Thrillers   \n",
       "8803             Kids' TV, Korean TV Shows, TV Comedies   \n",
       "8804                            Comedies, Horror Movies   \n",
       "8805                 Children & Family Movies, Comedies   \n",
       "8806     Dramas, International Movies, Music & Musicals   \n",
       "\n",
       "                                            description  \n",
       "0     As her father nears the end of his life, filmm...  \n",
       "1     After crossing paths at a party, a Cape Town t...  \n",
       "2     To protect his family from a powerful drug lor...  \n",
       "3     Feuds, flirtations and toilet talk go down amo...  \n",
       "4     In a city of coaching centers known to train I...  \n",
       "...                                                 ...  \n",
       "8802  A political cartoonist, a crime reporter and a...  \n",
       "8803  While living alone in a spooky town, a young g...  \n",
       "8804  Looking to survive in a world taken over by zo...  \n",
       "8805  Dragged from civilian life, a former superhero...  \n",
       "8806  A scrappy but poor boy worms his way into a ty...  \n",
       "\n",
       "[8807 rows x 10 columns]"
      ]
     },
     "execution_count": 8,
     "metadata": {},
     "output_type": "execute_result"
    }
   ],
   "source": [
    "df['country'].replace(np.nan,\"United States\",inplace=True) #replacing the nan values in country column with united states\n",
    "df"
   ]
  },
  {
   "cell_type": "code",
   "execution_count": 9,
   "id": "75e2361d",
   "metadata": {},
   "outputs": [
    {
     "data": {
      "text/plain": [
       "show_id          0\n",
       "type             0\n",
       "title            0\n",
       "country          0\n",
       "date_added      10\n",
       "release_year     0\n",
       "rating           4\n",
       "duration         3\n",
       "listed_in        0\n",
       "description      0\n",
       "dtype: int64"
      ]
     },
     "execution_count": 9,
     "metadata": {},
     "output_type": "execute_result"
    }
   ],
   "source": [
    "df.isnull().sum() #checking the sum of null values"
   ]
  },
  {
   "cell_type": "code",
   "execution_count": 10,
   "id": "171f5a8a",
   "metadata": {},
   "outputs": [
    {
     "data": {
      "text/plain": [
       "January 1, 2020       109\n",
       "November 1, 2019       89\n",
       "March 1, 2018          75\n",
       "December 31, 2019      74\n",
       "October 1, 2018        71\n",
       "                     ... \n",
       "November 21, 2014       1\n",
       "August 20, 2018         1\n",
       "January 19, 2017        1\n",
       "September 26, 2014      1\n",
       "October 14, 2016        1\n",
       "Name: date_added, Length: 1767, dtype: int64"
      ]
     },
     "execution_count": 10,
     "metadata": {},
     "output_type": "execute_result"
    }
   ],
   "source": [
    "df['date_added'].value_counts() #count of date_added column"
   ]
  },
  {
   "cell_type": "code",
   "execution_count": 11,
   "id": "4922b1b4",
   "metadata": {},
   "outputs": [
    {
     "data": {
      "text/html": [
       "<div>\n",
       "<style scoped>\n",
       "    .dataframe tbody tr th:only-of-type {\n",
       "        vertical-align: middle;\n",
       "    }\n",
       "\n",
       "    .dataframe tbody tr th {\n",
       "        vertical-align: top;\n",
       "    }\n",
       "\n",
       "    .dataframe thead th {\n",
       "        text-align: right;\n",
       "    }\n",
       "</style>\n",
       "<table border=\"1\" class=\"dataframe\">\n",
       "  <thead>\n",
       "    <tr style=\"text-align: right;\">\n",
       "      <th></th>\n",
       "      <th>date_added</th>\n",
       "      <th>release_month</th>\n",
       "    </tr>\n",
       "  </thead>\n",
       "  <tbody>\n",
       "    <tr>\n",
       "      <th>0</th>\n",
       "      <td>September 25, 2021</td>\n",
       "      <td>September</td>\n",
       "    </tr>\n",
       "    <tr>\n",
       "      <th>1</th>\n",
       "      <td>September 24, 2021</td>\n",
       "      <td>September</td>\n",
       "    </tr>\n",
       "    <tr>\n",
       "      <th>2</th>\n",
       "      <td>September 24, 2021</td>\n",
       "      <td>September</td>\n",
       "    </tr>\n",
       "    <tr>\n",
       "      <th>3</th>\n",
       "      <td>September 24, 2021</td>\n",
       "      <td>September</td>\n",
       "    </tr>\n",
       "    <tr>\n",
       "      <th>4</th>\n",
       "      <td>September 24, 2021</td>\n",
       "      <td>September</td>\n",
       "    </tr>\n",
       "    <tr>\n",
       "      <th>...</th>\n",
       "      <td>...</td>\n",
       "      <td>...</td>\n",
       "    </tr>\n",
       "    <tr>\n",
       "      <th>8802</th>\n",
       "      <td>November 20, 2019</td>\n",
       "      <td>November</td>\n",
       "    </tr>\n",
       "    <tr>\n",
       "      <th>8803</th>\n",
       "      <td>July 1, 2019</td>\n",
       "      <td>July</td>\n",
       "    </tr>\n",
       "    <tr>\n",
       "      <th>8804</th>\n",
       "      <td>November 1, 2019</td>\n",
       "      <td>November</td>\n",
       "    </tr>\n",
       "    <tr>\n",
       "      <th>8805</th>\n",
       "      <td>January 11, 2020</td>\n",
       "      <td>January</td>\n",
       "    </tr>\n",
       "    <tr>\n",
       "      <th>8806</th>\n",
       "      <td>March 2, 2019</td>\n",
       "      <td>March</td>\n",
       "    </tr>\n",
       "  </tbody>\n",
       "</table>\n",
       "<p>8807 rows × 2 columns</p>\n",
       "</div>"
      ],
      "text/plain": [
       "              date_added release_month\n",
       "0     September 25, 2021     September\n",
       "1     September 24, 2021     September\n",
       "2     September 24, 2021     September\n",
       "3     September 24, 2021     September\n",
       "4     September 24, 2021     September\n",
       "...                  ...           ...\n",
       "8802   November 20, 2019      November\n",
       "8803        July 1, 2019          July\n",
       "8804    November 1, 2019      November\n",
       "8805    January 11, 2020       January\n",
       "8806       March 2, 2019         March\n",
       "\n",
       "[8807 rows x 2 columns]"
      ]
     },
     "execution_count": 11,
     "metadata": {},
     "output_type": "execute_result"
    }
   ],
   "source": [
    "netflix_date = df[['date_added']].replace(np.nan,'Not Added') #replacing nan with not added\n",
    "netflix_date[\"release_month\"] = netflix_date['date_added'].apply(lambda x: x.lstrip().split(\" \")[0]) #splitting date_added column to get just the month\n",
    "netflix_date"
   ]
  },
  {
   "cell_type": "code",
   "execution_count": 12,
   "id": "65d4b1ed",
   "metadata": {},
   "outputs": [
    {
     "data": {
      "text/plain": [
       "July         827\n",
       "December     813\n",
       "September    770\n",
       "April        764\n",
       "October      760\n",
       "August       755\n",
       "March        742\n",
       "January      738\n",
       "June         728\n",
       "November     705\n",
       "May          632\n",
       "February     563\n",
       "Not           10\n",
       "Name: release_month, dtype: int64"
      ]
     },
     "execution_count": 12,
     "metadata": {},
     "output_type": "execute_result"
    }
   ],
   "source": [
    "netflix_date[\"release_month\"].value_counts() #count of the releasing month"
   ]
  },
  {
   "cell_type": "code",
   "execution_count": 13,
   "id": "be87c356",
   "metadata": {},
   "outputs": [],
   "source": [
    "netflix_date['release_month'].replace('Not', 0,inplace=True) #replacing not with 0"
   ]
  },
  {
   "cell_type": "code",
   "execution_count": 14,
   "id": "226e5a8b",
   "metadata": {},
   "outputs": [
    {
     "data": {
      "text/plain": [
       "July         827\n",
       "December     813\n",
       "September    770\n",
       "April        764\n",
       "October      760\n",
       "August       755\n",
       "March        742\n",
       "January      738\n",
       "June         728\n",
       "November     705\n",
       "May          632\n",
       "February     563\n",
       "0             10\n",
       "Name: release_month, dtype: int64"
      ]
     },
     "execution_count": 14,
     "metadata": {},
     "output_type": "execute_result"
    }
   ],
   "source": [
    "netflix_date[\"release_month\"].value_counts() #taking the count"
   ]
  },
  {
   "cell_type": "code",
   "execution_count": 15,
   "id": "22d2dad2",
   "metadata": {},
   "outputs": [
    {
     "data": {
      "text/html": [
       "<div>\n",
       "<style scoped>\n",
       "    .dataframe tbody tr th:only-of-type {\n",
       "        vertical-align: middle;\n",
       "    }\n",
       "\n",
       "    .dataframe tbody tr th {\n",
       "        vertical-align: top;\n",
       "    }\n",
       "\n",
       "    .dataframe thead th {\n",
       "        text-align: right;\n",
       "    }\n",
       "</style>\n",
       "<table border=\"1\" class=\"dataframe\">\n",
       "  <thead>\n",
       "    <tr style=\"text-align: right;\">\n",
       "      <th></th>\n",
       "      <th>release_month</th>\n",
       "    </tr>\n",
       "  </thead>\n",
       "  <tbody>\n",
       "    <tr>\n",
       "      <th>0</th>\n",
       "      <td>September</td>\n",
       "    </tr>\n",
       "    <tr>\n",
       "      <th>1</th>\n",
       "      <td>September</td>\n",
       "    </tr>\n",
       "    <tr>\n",
       "      <th>2</th>\n",
       "      <td>September</td>\n",
       "    </tr>\n",
       "    <tr>\n",
       "      <th>3</th>\n",
       "      <td>September</td>\n",
       "    </tr>\n",
       "    <tr>\n",
       "      <th>4</th>\n",
       "      <td>September</td>\n",
       "    </tr>\n",
       "  </tbody>\n",
       "</table>\n",
       "</div>"
      ],
      "text/plain": [
       "  release_month\n",
       "0     September\n",
       "1     September\n",
       "2     September\n",
       "3     September\n",
       "4     September"
      ]
     },
     "execution_count": 15,
     "metadata": {},
     "output_type": "execute_result"
    }
   ],
   "source": [
    "netflix_date.drop(\"date_added\",axis=1,inplace=True) #deleting the date_added column\n",
    "netflix_date.head()"
   ]
  },
  {
   "cell_type": "code",
   "execution_count": 16,
   "id": "716181f7",
   "metadata": {},
   "outputs": [
    {
     "data": {
      "text/html": [
       "<div>\n",
       "<style scoped>\n",
       "    .dataframe tbody tr th:only-of-type {\n",
       "        vertical-align: middle;\n",
       "    }\n",
       "\n",
       "    .dataframe tbody tr th {\n",
       "        vertical-align: top;\n",
       "    }\n",
       "\n",
       "    .dataframe thead th {\n",
       "        text-align: right;\n",
       "    }\n",
       "</style>\n",
       "<table border=\"1\" class=\"dataframe\">\n",
       "  <thead>\n",
       "    <tr style=\"text-align: right;\">\n",
       "      <th></th>\n",
       "      <th>release_month</th>\n",
       "    </tr>\n",
       "  </thead>\n",
       "  <tbody>\n",
       "    <tr>\n",
       "      <th>0</th>\n",
       "      <td>September</td>\n",
       "    </tr>\n",
       "    <tr>\n",
       "      <th>1</th>\n",
       "      <td>September</td>\n",
       "    </tr>\n",
       "    <tr>\n",
       "      <th>2</th>\n",
       "      <td>September</td>\n",
       "    </tr>\n",
       "    <tr>\n",
       "      <th>3</th>\n",
       "      <td>September</td>\n",
       "    </tr>\n",
       "    <tr>\n",
       "      <th>4</th>\n",
       "      <td>September</td>\n",
       "    </tr>\n",
       "    <tr>\n",
       "      <th>...</th>\n",
       "      <td>...</td>\n",
       "    </tr>\n",
       "    <tr>\n",
       "      <th>8802</th>\n",
       "      <td>November</td>\n",
       "    </tr>\n",
       "    <tr>\n",
       "      <th>8803</th>\n",
       "      <td>July</td>\n",
       "    </tr>\n",
       "    <tr>\n",
       "      <th>8804</th>\n",
       "      <td>November</td>\n",
       "    </tr>\n",
       "    <tr>\n",
       "      <th>8805</th>\n",
       "      <td>January</td>\n",
       "    </tr>\n",
       "    <tr>\n",
       "      <th>8806</th>\n",
       "      <td>March</td>\n",
       "    </tr>\n",
       "  </tbody>\n",
       "</table>\n",
       "<p>8807 rows × 1 columns</p>\n",
       "</div>"
      ],
      "text/plain": [
       "     release_month\n",
       "0        September\n",
       "1        September\n",
       "2        September\n",
       "3        September\n",
       "4        September\n",
       "...            ...\n",
       "8802      November\n",
       "8803          July\n",
       "8804      November\n",
       "8805       January\n",
       "8806         March\n",
       "\n",
       "[8807 rows x 1 columns]"
      ]
     },
     "execution_count": 16,
     "metadata": {},
     "output_type": "execute_result"
    }
   ],
   "source": [
    "netflix_date #displaying date column"
   ]
  },
  {
   "cell_type": "code",
   "execution_count": 17,
   "id": "86095e80",
   "metadata": {},
   "outputs": [
    {
     "data": {
      "text/html": [
       "<div>\n",
       "<style scoped>\n",
       "    .dataframe tbody tr th:only-of-type {\n",
       "        vertical-align: middle;\n",
       "    }\n",
       "\n",
       "    .dataframe tbody tr th {\n",
       "        vertical-align: top;\n",
       "    }\n",
       "\n",
       "    .dataframe thead th {\n",
       "        text-align: right;\n",
       "    }\n",
       "</style>\n",
       "<table border=\"1\" class=\"dataframe\">\n",
       "  <thead>\n",
       "    <tr style=\"text-align: right;\">\n",
       "      <th></th>\n",
       "      <th>show_id</th>\n",
       "      <th>type</th>\n",
       "      <th>title</th>\n",
       "      <th>country</th>\n",
       "      <th>date_added</th>\n",
       "      <th>release_year</th>\n",
       "      <th>rating</th>\n",
       "      <th>duration</th>\n",
       "      <th>listed_in</th>\n",
       "      <th>description</th>\n",
       "      <th>release_month</th>\n",
       "    </tr>\n",
       "  </thead>\n",
       "  <tbody>\n",
       "    <tr>\n",
       "      <th>0</th>\n",
       "      <td>s1</td>\n",
       "      <td>Movie</td>\n",
       "      <td>Dick Johnson Is Dead</td>\n",
       "      <td>United States</td>\n",
       "      <td>September 25, 2021</td>\n",
       "      <td>2020</td>\n",
       "      <td>PG-13</td>\n",
       "      <td>90 min</td>\n",
       "      <td>Documentaries</td>\n",
       "      <td>As her father nears the end of his life, filmm...</td>\n",
       "      <td>September</td>\n",
       "    </tr>\n",
       "    <tr>\n",
       "      <th>1</th>\n",
       "      <td>s2</td>\n",
       "      <td>TV Show</td>\n",
       "      <td>Blood &amp; Water</td>\n",
       "      <td>South Africa</td>\n",
       "      <td>September 24, 2021</td>\n",
       "      <td>2021</td>\n",
       "      <td>TV-MA</td>\n",
       "      <td>2 Seasons</td>\n",
       "      <td>International TV Shows, TV Dramas, TV Mysteries</td>\n",
       "      <td>After crossing paths at a party, a Cape Town t...</td>\n",
       "      <td>September</td>\n",
       "    </tr>\n",
       "    <tr>\n",
       "      <th>2</th>\n",
       "      <td>s3</td>\n",
       "      <td>TV Show</td>\n",
       "      <td>Ganglands</td>\n",
       "      <td>United States</td>\n",
       "      <td>September 24, 2021</td>\n",
       "      <td>2021</td>\n",
       "      <td>TV-MA</td>\n",
       "      <td>1 Season</td>\n",
       "      <td>Crime TV Shows, International TV Shows, TV Act...</td>\n",
       "      <td>To protect his family from a powerful drug lor...</td>\n",
       "      <td>September</td>\n",
       "    </tr>\n",
       "    <tr>\n",
       "      <th>3</th>\n",
       "      <td>s4</td>\n",
       "      <td>TV Show</td>\n",
       "      <td>Jailbirds New Orleans</td>\n",
       "      <td>United States</td>\n",
       "      <td>September 24, 2021</td>\n",
       "      <td>2021</td>\n",
       "      <td>TV-MA</td>\n",
       "      <td>1 Season</td>\n",
       "      <td>Docuseries, Reality TV</td>\n",
       "      <td>Feuds, flirtations and toilet talk go down amo...</td>\n",
       "      <td>September</td>\n",
       "    </tr>\n",
       "    <tr>\n",
       "      <th>4</th>\n",
       "      <td>s5</td>\n",
       "      <td>TV Show</td>\n",
       "      <td>Kota Factory</td>\n",
       "      <td>India</td>\n",
       "      <td>September 24, 2021</td>\n",
       "      <td>2021</td>\n",
       "      <td>TV-MA</td>\n",
       "      <td>2 Seasons</td>\n",
       "      <td>International TV Shows, Romantic TV Shows, TV ...</td>\n",
       "      <td>In a city of coaching centers known to train I...</td>\n",
       "      <td>September</td>\n",
       "    </tr>\n",
       "  </tbody>\n",
       "</table>\n",
       "</div>"
      ],
      "text/plain": [
       "  show_id     type                  title        country          date_added  \\\n",
       "0      s1    Movie   Dick Johnson Is Dead  United States  September 25, 2021   \n",
       "1      s2  TV Show          Blood & Water   South Africa  September 24, 2021   \n",
       "2      s3  TV Show              Ganglands  United States  September 24, 2021   \n",
       "3      s4  TV Show  Jailbirds New Orleans  United States  September 24, 2021   \n",
       "4      s5  TV Show           Kota Factory          India  September 24, 2021   \n",
       "\n",
       "   release_year rating   duration  \\\n",
       "0          2020  PG-13     90 min   \n",
       "1          2021  TV-MA  2 Seasons   \n",
       "2          2021  TV-MA   1 Season   \n",
       "3          2021  TV-MA   1 Season   \n",
       "4          2021  TV-MA  2 Seasons   \n",
       "\n",
       "                                           listed_in  \\\n",
       "0                                      Documentaries   \n",
       "1    International TV Shows, TV Dramas, TV Mysteries   \n",
       "2  Crime TV Shows, International TV Shows, TV Act...   \n",
       "3                             Docuseries, Reality TV   \n",
       "4  International TV Shows, Romantic TV Shows, TV ...   \n",
       "\n",
       "                                         description release_month  \n",
       "0  As her father nears the end of his life, filmm...     September  \n",
       "1  After crossing paths at a party, a Cape Town t...     September  \n",
       "2  To protect his family from a powerful drug lor...     September  \n",
       "3  Feuds, flirtations and toilet talk go down amo...     September  \n",
       "4  In a city of coaching centers known to train I...     September  "
      ]
     },
     "execution_count": 17,
     "metadata": {},
     "output_type": "execute_result"
    }
   ],
   "source": [
    "netflix = pd.concat([df,netflix_date],axis=1) #combining df and netflix_date\n",
    "netflix.head()"
   ]
  },
  {
   "cell_type": "code",
   "execution_count": 18,
   "id": "b723c4b7",
   "metadata": {},
   "outputs": [
    {
     "data": {
      "text/html": [
       "<div>\n",
       "<style scoped>\n",
       "    .dataframe tbody tr th:only-of-type {\n",
       "        vertical-align: middle;\n",
       "    }\n",
       "\n",
       "    .dataframe tbody tr th {\n",
       "        vertical-align: top;\n",
       "    }\n",
       "\n",
       "    .dataframe thead th {\n",
       "        text-align: right;\n",
       "    }\n",
       "</style>\n",
       "<table border=\"1\" class=\"dataframe\">\n",
       "  <thead>\n",
       "    <tr style=\"text-align: right;\">\n",
       "      <th></th>\n",
       "      <th>show_id</th>\n",
       "      <th>type</th>\n",
       "      <th>title</th>\n",
       "      <th>country</th>\n",
       "      <th>release_year</th>\n",
       "      <th>rating</th>\n",
       "      <th>duration</th>\n",
       "      <th>listed_in</th>\n",
       "      <th>description</th>\n",
       "      <th>release_month</th>\n",
       "    </tr>\n",
       "  </thead>\n",
       "  <tbody>\n",
       "    <tr>\n",
       "      <th>0</th>\n",
       "      <td>s1</td>\n",
       "      <td>Movie</td>\n",
       "      <td>Dick Johnson Is Dead</td>\n",
       "      <td>United States</td>\n",
       "      <td>2020</td>\n",
       "      <td>PG-13</td>\n",
       "      <td>90 min</td>\n",
       "      <td>Documentaries</td>\n",
       "      <td>As her father nears the end of his life, filmm...</td>\n",
       "      <td>September</td>\n",
       "    </tr>\n",
       "    <tr>\n",
       "      <th>1</th>\n",
       "      <td>s2</td>\n",
       "      <td>TV Show</td>\n",
       "      <td>Blood &amp; Water</td>\n",
       "      <td>South Africa</td>\n",
       "      <td>2021</td>\n",
       "      <td>TV-MA</td>\n",
       "      <td>2 Seasons</td>\n",
       "      <td>International TV Shows, TV Dramas, TV Mysteries</td>\n",
       "      <td>After crossing paths at a party, a Cape Town t...</td>\n",
       "      <td>September</td>\n",
       "    </tr>\n",
       "    <tr>\n",
       "      <th>2</th>\n",
       "      <td>s3</td>\n",
       "      <td>TV Show</td>\n",
       "      <td>Ganglands</td>\n",
       "      <td>United States</td>\n",
       "      <td>2021</td>\n",
       "      <td>TV-MA</td>\n",
       "      <td>1 Season</td>\n",
       "      <td>Crime TV Shows, International TV Shows, TV Act...</td>\n",
       "      <td>To protect his family from a powerful drug lor...</td>\n",
       "      <td>September</td>\n",
       "    </tr>\n",
       "    <tr>\n",
       "      <th>3</th>\n",
       "      <td>s4</td>\n",
       "      <td>TV Show</td>\n",
       "      <td>Jailbirds New Orleans</td>\n",
       "      <td>United States</td>\n",
       "      <td>2021</td>\n",
       "      <td>TV-MA</td>\n",
       "      <td>1 Season</td>\n",
       "      <td>Docuseries, Reality TV</td>\n",
       "      <td>Feuds, flirtations and toilet talk go down amo...</td>\n",
       "      <td>September</td>\n",
       "    </tr>\n",
       "    <tr>\n",
       "      <th>4</th>\n",
       "      <td>s5</td>\n",
       "      <td>TV Show</td>\n",
       "      <td>Kota Factory</td>\n",
       "      <td>India</td>\n",
       "      <td>2021</td>\n",
       "      <td>TV-MA</td>\n",
       "      <td>2 Seasons</td>\n",
       "      <td>International TV Shows, Romantic TV Shows, TV ...</td>\n",
       "      <td>In a city of coaching centers known to train I...</td>\n",
       "      <td>September</td>\n",
       "    </tr>\n",
       "  </tbody>\n",
       "</table>\n",
       "</div>"
      ],
      "text/plain": [
       "  show_id     type                  title        country  release_year rating  \\\n",
       "0      s1    Movie   Dick Johnson Is Dead  United States          2020  PG-13   \n",
       "1      s2  TV Show          Blood & Water   South Africa          2021  TV-MA   \n",
       "2      s3  TV Show              Ganglands  United States          2021  TV-MA   \n",
       "3      s4  TV Show  Jailbirds New Orleans  United States          2021  TV-MA   \n",
       "4      s5  TV Show           Kota Factory          India          2021  TV-MA   \n",
       "\n",
       "    duration                                          listed_in  \\\n",
       "0     90 min                                      Documentaries   \n",
       "1  2 Seasons    International TV Shows, TV Dramas, TV Mysteries   \n",
       "2   1 Season  Crime TV Shows, International TV Shows, TV Act...   \n",
       "3   1 Season                             Docuseries, Reality TV   \n",
       "4  2 Seasons  International TV Shows, Romantic TV Shows, TV ...   \n",
       "\n",
       "                                         description release_month  \n",
       "0  As her father nears the end of his life, filmm...     September  \n",
       "1  After crossing paths at a party, a Cape Town t...     September  \n",
       "2  To protect his family from a powerful drug lor...     September  \n",
       "3  Feuds, flirtations and toilet talk go down amo...     September  \n",
       "4  In a city of coaching centers known to train I...     September  "
      ]
     },
     "execution_count": 18,
     "metadata": {},
     "output_type": "execute_result"
    }
   ],
   "source": [
    "netflix.drop(\"date_added\",axis=1,inplace=True) #deleting date_added from netflix\n",
    "netflix.head()"
   ]
  },
  {
   "cell_type": "code",
   "execution_count": 19,
   "id": "3db8cab1",
   "metadata": {},
   "outputs": [
    {
     "data": {
      "text/plain": [
       "TV-MA       3207\n",
       "TV-14       2160\n",
       "TV-PG        863\n",
       "R            799\n",
       "PG-13        490\n",
       "TV-Y7        334\n",
       "TV-Y         307\n",
       "PG           287\n",
       "TV-G         220\n",
       "NR            80\n",
       "G             41\n",
       "TV-Y7-FV       6\n",
       "NC-17          3\n",
       "UR             3\n",
       "74 min         1\n",
       "84 min         1\n",
       "66 min         1\n",
       "Name: rating, dtype: int64"
      ]
     },
     "execution_count": 19,
     "metadata": {},
     "output_type": "execute_result"
    }
   ],
   "source": [
    "netflix[\"rating\"].value_counts() #taking count of rating"
   ]
  },
  {
   "cell_type": "code",
   "execution_count": 20,
   "id": "55d75274",
   "metadata": {},
   "outputs": [
    {
     "data": {
      "text/plain": [
       "4"
      ]
     },
     "execution_count": 20,
     "metadata": {},
     "output_type": "execute_result"
    }
   ],
   "source": [
    "netflix[\"rating\"].isnull().sum() #checking total null values in rating column"
   ]
  },
  {
   "cell_type": "code",
   "execution_count": 21,
   "id": "d4be10bd",
   "metadata": {},
   "outputs": [
    {
     "data": {
      "text/plain": [
       "show_id          0\n",
       "type             0\n",
       "title            0\n",
       "country          0\n",
       "release_year     0\n",
       "rating           0\n",
       "duration         3\n",
       "listed_in        0\n",
       "description      0\n",
       "release_month    0\n",
       "dtype: int64"
      ]
     },
     "execution_count": 21,
     "metadata": {},
     "output_type": "execute_result"
    }
   ],
   "source": [
    "netflix[\"rating\"].replace(np.nan,\"TV-MA\",inplace=True) #replacing null values in rating with TV-MA\n",
    "netflix.isnull().sum()"
   ]
  },
  {
   "cell_type": "code",
   "execution_count": 22,
   "id": "6e8d98e1",
   "metadata": {},
   "outputs": [
    {
     "data": {
      "text/html": [
       "<div>\n",
       "<style scoped>\n",
       "    .dataframe tbody tr th:only-of-type {\n",
       "        vertical-align: middle;\n",
       "    }\n",
       "\n",
       "    .dataframe tbody tr th {\n",
       "        vertical-align: top;\n",
       "    }\n",
       "\n",
       "    .dataframe thead th {\n",
       "        text-align: right;\n",
       "    }\n",
       "</style>\n",
       "<table border=\"1\" class=\"dataframe\">\n",
       "  <thead>\n",
       "    <tr style=\"text-align: right;\">\n",
       "      <th></th>\n",
       "      <th>show_id</th>\n",
       "      <th>type</th>\n",
       "      <th>title</th>\n",
       "      <th>country</th>\n",
       "      <th>release_year</th>\n",
       "      <th>rating</th>\n",
       "      <th>duration</th>\n",
       "      <th>listed_in</th>\n",
       "      <th>description</th>\n",
       "      <th>release_month</th>\n",
       "    </tr>\n",
       "  </thead>\n",
       "  <tbody>\n",
       "    <tr>\n",
       "      <th>0</th>\n",
       "      <td>s1</td>\n",
       "      <td>Movie</td>\n",
       "      <td>Dick Johnson Is Dead</td>\n",
       "      <td>United States</td>\n",
       "      <td>2020</td>\n",
       "      <td>PG-13</td>\n",
       "      <td>90 min</td>\n",
       "      <td>Documentaries</td>\n",
       "      <td>As her father nears the end of his life, filmm...</td>\n",
       "      <td>September</td>\n",
       "    </tr>\n",
       "    <tr>\n",
       "      <th>1</th>\n",
       "      <td>s2</td>\n",
       "      <td>TV Show</td>\n",
       "      <td>Blood &amp; Water</td>\n",
       "      <td>South Africa</td>\n",
       "      <td>2021</td>\n",
       "      <td>TV-MA</td>\n",
       "      <td>2 Seasons</td>\n",
       "      <td>International TV Shows, TV Dramas, TV Mysteries</td>\n",
       "      <td>After crossing paths at a party, a Cape Town t...</td>\n",
       "      <td>September</td>\n",
       "    </tr>\n",
       "    <tr>\n",
       "      <th>2</th>\n",
       "      <td>s3</td>\n",
       "      <td>TV Show</td>\n",
       "      <td>Ganglands</td>\n",
       "      <td>United States</td>\n",
       "      <td>2021</td>\n",
       "      <td>TV-MA</td>\n",
       "      <td>1 Season</td>\n",
       "      <td>Crime TV Shows, International TV Shows, TV Act...</td>\n",
       "      <td>To protect his family from a powerful drug lor...</td>\n",
       "      <td>September</td>\n",
       "    </tr>\n",
       "    <tr>\n",
       "      <th>3</th>\n",
       "      <td>s4</td>\n",
       "      <td>TV Show</td>\n",
       "      <td>Jailbirds New Orleans</td>\n",
       "      <td>United States</td>\n",
       "      <td>2021</td>\n",
       "      <td>TV-MA</td>\n",
       "      <td>1 Season</td>\n",
       "      <td>Docuseries, Reality TV</td>\n",
       "      <td>Feuds, flirtations and toilet talk go down amo...</td>\n",
       "      <td>September</td>\n",
       "    </tr>\n",
       "    <tr>\n",
       "      <th>4</th>\n",
       "      <td>s5</td>\n",
       "      <td>TV Show</td>\n",
       "      <td>Kota Factory</td>\n",
       "      <td>India</td>\n",
       "      <td>2021</td>\n",
       "      <td>TV-MA</td>\n",
       "      <td>2 Seasons</td>\n",
       "      <td>International TV Shows, Romantic TV Shows, TV ...</td>\n",
       "      <td>In a city of coaching centers known to train I...</td>\n",
       "      <td>September</td>\n",
       "    </tr>\n",
       "    <tr>\n",
       "      <th>...</th>\n",
       "      <td>...</td>\n",
       "      <td>...</td>\n",
       "      <td>...</td>\n",
       "      <td>...</td>\n",
       "      <td>...</td>\n",
       "      <td>...</td>\n",
       "      <td>...</td>\n",
       "      <td>...</td>\n",
       "      <td>...</td>\n",
       "      <td>...</td>\n",
       "    </tr>\n",
       "    <tr>\n",
       "      <th>8802</th>\n",
       "      <td>s8803</td>\n",
       "      <td>Movie</td>\n",
       "      <td>Zodiac</td>\n",
       "      <td>United States</td>\n",
       "      <td>2007</td>\n",
       "      <td>R</td>\n",
       "      <td>158 min</td>\n",
       "      <td>Cult Movies, Dramas, Thrillers</td>\n",
       "      <td>A political cartoonist, a crime reporter and a...</td>\n",
       "      <td>November</td>\n",
       "    </tr>\n",
       "    <tr>\n",
       "      <th>8803</th>\n",
       "      <td>s8804</td>\n",
       "      <td>TV Show</td>\n",
       "      <td>Zombie Dumb</td>\n",
       "      <td>United States</td>\n",
       "      <td>2018</td>\n",
       "      <td>TV-Y7</td>\n",
       "      <td>2 Seasons</td>\n",
       "      <td>Kids' TV, Korean TV Shows, TV Comedies</td>\n",
       "      <td>While living alone in a spooky town, a young g...</td>\n",
       "      <td>July</td>\n",
       "    </tr>\n",
       "    <tr>\n",
       "      <th>8804</th>\n",
       "      <td>s8805</td>\n",
       "      <td>Movie</td>\n",
       "      <td>Zombieland</td>\n",
       "      <td>United States</td>\n",
       "      <td>2009</td>\n",
       "      <td>R</td>\n",
       "      <td>88 min</td>\n",
       "      <td>Comedies, Horror Movies</td>\n",
       "      <td>Looking to survive in a world taken over by zo...</td>\n",
       "      <td>November</td>\n",
       "    </tr>\n",
       "    <tr>\n",
       "      <th>8805</th>\n",
       "      <td>s8806</td>\n",
       "      <td>Movie</td>\n",
       "      <td>Zoom</td>\n",
       "      <td>United States</td>\n",
       "      <td>2006</td>\n",
       "      <td>PG</td>\n",
       "      <td>88 min</td>\n",
       "      <td>Children &amp; Family Movies, Comedies</td>\n",
       "      <td>Dragged from civilian life, a former superhero...</td>\n",
       "      <td>January</td>\n",
       "    </tr>\n",
       "    <tr>\n",
       "      <th>8806</th>\n",
       "      <td>s8807</td>\n",
       "      <td>Movie</td>\n",
       "      <td>Zubaan</td>\n",
       "      <td>India</td>\n",
       "      <td>2015</td>\n",
       "      <td>TV-14</td>\n",
       "      <td>111 min</td>\n",
       "      <td>Dramas, International Movies, Music &amp; Musicals</td>\n",
       "      <td>A scrappy but poor boy worms his way into a ty...</td>\n",
       "      <td>March</td>\n",
       "    </tr>\n",
       "  </tbody>\n",
       "</table>\n",
       "<p>8807 rows × 10 columns</p>\n",
       "</div>"
      ],
      "text/plain": [
       "     show_id     type                  title        country  release_year  \\\n",
       "0         s1    Movie   Dick Johnson Is Dead  United States          2020   \n",
       "1         s2  TV Show          Blood & Water   South Africa          2021   \n",
       "2         s3  TV Show              Ganglands  United States          2021   \n",
       "3         s4  TV Show  Jailbirds New Orleans  United States          2021   \n",
       "4         s5  TV Show           Kota Factory          India          2021   \n",
       "...      ...      ...                    ...            ...           ...   \n",
       "8802   s8803    Movie                 Zodiac  United States          2007   \n",
       "8803   s8804  TV Show            Zombie Dumb  United States          2018   \n",
       "8804   s8805    Movie             Zombieland  United States          2009   \n",
       "8805   s8806    Movie                   Zoom  United States          2006   \n",
       "8806   s8807    Movie                 Zubaan          India          2015   \n",
       "\n",
       "     rating   duration                                          listed_in  \\\n",
       "0     PG-13     90 min                                      Documentaries   \n",
       "1     TV-MA  2 Seasons    International TV Shows, TV Dramas, TV Mysteries   \n",
       "2     TV-MA   1 Season  Crime TV Shows, International TV Shows, TV Act...   \n",
       "3     TV-MA   1 Season                             Docuseries, Reality TV   \n",
       "4     TV-MA  2 Seasons  International TV Shows, Romantic TV Shows, TV ...   \n",
       "...     ...        ...                                                ...   \n",
       "8802      R    158 min                     Cult Movies, Dramas, Thrillers   \n",
       "8803  TV-Y7  2 Seasons             Kids' TV, Korean TV Shows, TV Comedies   \n",
       "8804      R     88 min                            Comedies, Horror Movies   \n",
       "8805     PG     88 min                 Children & Family Movies, Comedies   \n",
       "8806  TV-14    111 min     Dramas, International Movies, Music & Musicals   \n",
       "\n",
       "                                            description release_month  \n",
       "0     As her father nears the end of his life, filmm...     September  \n",
       "1     After crossing paths at a party, a Cape Town t...     September  \n",
       "2     To protect his family from a powerful drug lor...     September  \n",
       "3     Feuds, flirtations and toilet talk go down amo...     September  \n",
       "4     In a city of coaching centers known to train I...     September  \n",
       "...                                                 ...           ...  \n",
       "8802  A political cartoonist, a crime reporter and a...      November  \n",
       "8803  While living alone in a spooky town, a young g...          July  \n",
       "8804  Looking to survive in a world taken over by zo...      November  \n",
       "8805  Dragged from civilian life, a former superhero...       January  \n",
       "8806  A scrappy but poor boy worms his way into a ty...         March  \n",
       "\n",
       "[8807 rows x 10 columns]"
      ]
     },
     "execution_count": 22,
     "metadata": {},
     "output_type": "execute_result"
    }
   ],
   "source": [
    "netflix[\"duration\"].fillna(\"0\",inplace= True) #filling null values in duration column with 0\n",
    "netflix"
   ]
  },
  {
   "cell_type": "code",
   "execution_count": 23,
   "id": "579669b6",
   "metadata": {},
   "outputs": [
    {
     "data": {
      "text/plain": [
       "show_id          0\n",
       "type             0\n",
       "title            0\n",
       "country          0\n",
       "release_year     0\n",
       "rating           0\n",
       "duration         0\n",
       "listed_in        0\n",
       "description      0\n",
       "release_month    0\n",
       "dtype: int64"
      ]
     },
     "execution_count": 23,
     "metadata": {},
     "output_type": "execute_result"
    }
   ],
   "source": [
    "netflix.isnull().sum() #checking null values"
   ]
  },
  {
   "cell_type": "code",
   "execution_count": 24,
   "id": "48f6b6b9",
   "metadata": {},
   "outputs": [
    {
     "data": {
      "image/png": "[encoded data removed]",
      "text/plain": [
       "<Figure size 432x288 with 1 Axes>"
      ]
     },
     "metadata": {},
     "output_type": "display_data"
    }
   ],
   "source": [
    "sns.set() #seaborn library for ploting statistical graphs and making analysis\n",
    "sns.countplot(x=\"type\",data=netflix) #plot of type vs count\n",
    "plt.show()"
   ]
  },
  {
   "cell_type": "code",
   "execution_count": 25,
   "id": "d5627869",
   "metadata": {},
   "outputs": [
    {
     "data": {
      "text/plain": [
       "<AxesSubplot:xlabel='rating', ylabel='count'>"
      ]
     },
     "execution_count": 25,
     "metadata": {},
     "output_type": "execute_result"
    },
    {
     "data": {
      "image/png": "[encoded data removed]",
      "text/plain": [
       "<Figure size 864x648 with 1 Axes>"
      ]
     },
     "metadata": {},
     "output_type": "display_data"
    }
   ],
   "source": [
    "plt.figure(figsize=(12,9)) #plot rating vs count\n",
    "sns.countplot(x=\"rating\",data=netflix,order= netflix['rating'].value_counts().index[0:14])"
   ]
  },
  {
   "cell_type": "code",
   "execution_count": 26,
   "id": "8f1b08f2",
   "metadata": {},
   "outputs": [
    {
     "data": {
      "image/png": "[encoded data removed]",
      "text/plain": [
       "<Figure size 2160x648 with 1 Axes>"
      ]
     },
     "metadata": {},
     "output_type": "display_data"
    }
   ],
   "source": [
    "sns.set() #plot of release year vs count\n",
    "plt.figure(figsize=(30,9))\n",
    "sns.countplot(x=\"release_year\",data= netflix,order = netflix['release_year'].value_counts().index[0:40])\n",
    "plt.xticks(rotation=45)\n",
    "plt.show()"
   ]
  },
  {
   "cell_type": "code",
   "execution_count": 27,
   "id": "36591158",
   "metadata": {},
   "outputs": [
    {
     "data": {
      "image/png": "[encoded data removed]",
      "text/plain": [
       "<Figure size 1440x576 with 1 Axes>"
      ]
     },
     "metadata": {},
     "output_type": "display_data"
    }
   ],
   "source": [
    "sns.set() # plot of release_month vs count\n",
    "plt.figure(figsize=(20,8))\n",
    "sns.countplot(x=\"release_month\",data= netflix,order = netflix['release_month'].value_counts().index[0:12])\n",
    "plt.xticks(rotation=45)\n",
    "plt.show()"
   ]
  },
  {
   "cell_type": "code",
   "execution_count": 28,
   "id": "0c73af8d",
   "metadata": {},
   "outputs": [
    {
     "data": {
      "image/png": "[encoded data removed]",
      "text/plain": [
       "<Figure size 1800x648 with 1 Axes>"
      ]
     },
     "metadata": {},
     "output_type": "display_data"
    }
   ],
   "source": [
    "sns.set() #comparative plot of movie and tv shows with respect to rating vs count\n",
    "plt.figure(figsize=(25,9))\n",
    "sns.countplot(x=\"rating\",data= netflix,hue= \"type\",order = netflix['rating'].value_counts().index[0:15])\n",
    "plt.xticks(rotation=45)\n",
    "plt.show()"
   ]
  },
  {
   "cell_type": "code",
   "execution_count": 29,
   "id": "69ccd877",
   "metadata": {},
   "outputs": [
    {
     "data": {
      "text/plain": [
       "United States     3649\n",
       "India              972\n",
       "United Kingdom     419\n",
       "Japan              245\n",
       "South Korea        199\n",
       "Name: country, dtype: int64"
      ]
     },
     "execution_count": 29,
     "metadata": {},
     "output_type": "execute_result"
    }
   ],
   "source": [
    "netflix[\"country\"].value_counts().head() #count of countries"
   ]
  },
  {
   "cell_type": "code",
   "execution_count": 30,
   "id": "8e77c1e9",
   "metadata": {},
   "outputs": [
    {
     "data": {
      "image/png": "[encoded data removed]",
      "text/plain": [
       "<Figure size 1800x648 with 1 Axes>"
      ]
     },
     "metadata": {},
     "output_type": "display_data"
    }
   ],
   "source": [
    "sns.set() # comparative plot for movies and tv shows with respect to the country\n",
    "plt.figure(figsize=(25,9))\n",
    "sns.countplot(x=\"country\",data= netflix,hue= \"type\",order = netflix['country'].value_counts().index[0:15])\n",
    "plt.xticks(rotation=45)\n",
    "plt.show()"
   ]
  },
  {
   "cell_type": "code",
   "execution_count": 31,
   "id": "e6121b7c",
   "metadata": {},
   "outputs": [
    {
     "data": {
      "text/plain": [
       "Index(['United States', 'India', 'United Kingdom', 'Japan', 'South Korea',\n",
       "       'Canada', 'Spain', 'France'],\n",
       "      dtype='object')"
      ]
     },
     "execution_count": 31,
     "metadata": {},
     "output_type": "execute_result"
    }
   ],
   "source": [
    "top = netflix['country'].value_counts()[0:8]\n",
    "top.index"
   ]
  },
  {
   "cell_type": "code",
   "execution_count": 32,
   "id": "1b0e376a",
   "metadata": {},
   "outputs": [
    {
     "data": {
      "text/plain": [
       "Dramas, International Movies                        362\n",
       "Documentaries                                       359\n",
       "Stand-Up Comedy                                     334\n",
       "Comedies, Dramas, International Movies              274\n",
       "Dramas, Independent Movies, International Movies    252\n",
       "                                                   ... \n",
       "Music & Musicals, Romantic Movies                     1\n",
       "Classic & Cult TV, Kids' TV, TV Comedies              1\n",
       "Kids' TV, TV Comedies, Teen TV Shows                  1\n",
       "TV Action & Adventure, TV Comedies                    1\n",
       "Classic Movies, Dramas, LGBTQ Movies                  1\n",
       "Name: listed_in, Length: 514, dtype: int64"
      ]
     },
     "execution_count": 32,
     "metadata": {},
     "output_type": "execute_result"
    }
   ],
   "source": [
    "top_listed_in=netflix[\"listed_in\"].value_counts() #counts of categories of listed_in\n",
    "top_listed_in"
   ]
  },
  {
   "cell_type": "code",
   "execution_count": 33,
   "id": "0d631702",
   "metadata": {},
   "outputs": [
    {
     "data": {
      "image/png": "[encoded data removed]",
      "text/plain": [
       "<Figure size 2160x1080 with 1 Axes>"
      ]
     },
     "metadata": {},
     "output_type": "display_data"
    }
   ],
   "source": [
    "sns.set() #plot for top 25 listed_in category\n",
    "plt.figure(figsize=(30,15))\n",
    "sns.countplot(x='listed_in',data = netflix,order =netflix[\"listed_in\"].value_counts().index[0:25])\n",
    "plt.xticks(rotation = 90)\n",
    "plt.show()\n"
   ]
  },
  {
   "cell_type": "code",
   "execution_count": 36,
   "id": "b4c48a6e",
   "metadata": {},
   "outputs": [
    {
     "data": {
      "application/vnd.plotly.v1+json": {
       "config": {
        "plotlyServerURL": "https://plot.ly"
       },
       "data": [
        {
         "domain": {
          "x": [
           0,
           1
          ],
          "y": [
           0,
           1
          ]
         },
         "hovertemplate": "label=%{label}<br>value=%{value}<extra></extra>",
         "labels": [
          "Dramas, International Movies",
          "Documentaries",
          "Stand-Up Comedy",
          "Comedies, Dramas, International Movies",
          "Dramas, Independent Movies, International Movies",
          "Kids' TV",
          "Children & Family Movies",
          "Children & Family Movies, Comedies",
          "Documentaries, International Movies",
          "Dramas, International Movies, Romantic Movies",
          "Comedies, International Movies",
          "Comedies, International Movies, Romantic Movies",
          "Dramas",
          "Dramas, International Movies, Thrillers",
          "Action & Adventure, Dramas, International Movies",
          "Action & Adventure",
          "International TV Shows, TV Dramas",
          "Comedies, Dramas, Independent Movies",
          "Comedies",
          "Crime TV Shows, International TV Shows, TV Dramas",
          "Action & Adventure, International Movies",
          "Dramas, Independent Movies",
          "Kids' TV, TV Comedies",
          "Reality TV",
          "International TV Shows, Romantic TV Shows, TV Comedies",
          "International TV Shows, Romantic TV Shows, TV Dramas",
          "Anime Series, International TV Shows",
          "Docuseries",
          "Documentaries, Music & Musicals",
          "Dramas, Thrillers",
          "Comedies, Romantic Movies",
          "Action & Adventure, Comedies, International Movies",
          "TV Comedies",
          "International Movies, Thrillers",
          "International TV Shows, Korean TV Shows, Romantic TV Shows",
          "Documentaries, Sports Movies",
          "Thrillers",
          "Action & Adventure, Sci-Fi & Fantasy",
          "Crime TV Shows, International TV Shows, Spanish-Language TV Shows",
          "Dramas, International Movies, Music & Musicals",
          "Movies",
          "Horror Movies, International Movies",
          "Horror Movies",
          "Comedies, International Movies, Music & Musicals",
          "Horror Movies, Thrillers",
          "Dramas, Romantic Movies",
          "Action & Adventure, Comedies",
          "Crime TV Shows, Docuseries",
          "Horror Movies, International Movies, Thrillers",
          "Documentaries, International Movies, Sports Movies",
          "Documentaries, International Movies, Music & Musicals",
          "International TV Shows, TV Comedies, TV Dramas",
          "Action & Adventure, Anime Features, International Movies",
          "International TV Shows, Reality TV",
          "Docuseries, Science & Nature TV",
          "TV Dramas",
          "International TV Shows, TV Comedies",
          "Action & Adventure, Dramas",
          "Docuseries, International TV Shows",
          "Dramas, Independent Movies, Thrillers",
          "British TV Shows, Docuseries, International TV Shows",
          "TV Comedies, TV Dramas",
          "Children & Family Movies, Dramas",
          "Comedies, Dramas",
          "Crime TV Shows, Docuseries, International TV Shows",
          "British TV Shows, International TV Shows, Reality TV",
          "Action & Adventure, Comedies, Dramas",
          "Stand-Up Comedy & Talk Shows, TV Comedies",
          "International TV Shows, TV Dramas, TV Mysteries",
          "International TV Shows, Spanish-Language TV Shows, TV Dramas",
          "Dramas, International Movies, Sports Movies",
          "Comedies, Independent Movies",
          "British TV Shows, Crime TV Shows, International TV Shows",
          "British TV Shows, Docuseries, Science & Nature TV",
          "Dramas, Independent Movies, Romantic Movies",
          "Anime Series, Kids' TV",
          "International TV Shows, Romantic TV Shows, Spanish-Language TV Shows",
          "Comedies, Independent Movies, International Movies",
          "Documentaries, LGBTQ Movies",
          "British TV Shows, Crime TV Shows, Docuseries",
          "International TV Shows, TV Action & Adventure, TV Dramas",
          "Crime TV Shows, International TV Shows, Korean TV Shows",
          "British TV Shows, Kids' TV",
          "Children & Family Movies, Music & Musicals",
          "Kids' TV, Korean TV Shows",
          "Comedies, Dramas, Romantic Movies",
          "Dramas, Sports Movies",
          "International Movies, Romantic Movies",
          "Crime TV Shows, International TV Shows, TV Action & Adventure",
          "International TV Shows, Korean TV Shows, TV Dramas",
          "Horror Movies, Independent Movies",
          "Dramas, Faith & Spirituality",
          "British TV Shows, International TV Shows, TV Comedies",
          "Dramas, Independent Movies, LGBTQ Movies",
          "International TV Shows, Spanish-Language TV Shows, TV Comedies",
          "Crime TV Shows, TV Dramas, TV Mysteries",
          "Children & Family Movies, Comedies, Dramas",
          "TV Shows",
          "Classic Movies, Dramas, International Movies",
          "Action & Adventure, International Movies, Sci-Fi & Fantasy",
          "Horror Movies, Independent Movies, Thrillers",
          "Crime TV Shows, TV Dramas",
          "Docuseries, Reality TV",
          "Children & Family Movies, Comedies, Music & Musicals",
          "Comedies, Horror Movies, International Movies",
          "International TV Shows, TV Dramas, TV Horror",
          "British TV Shows, International TV Shows, TV Dramas",
          "Docuseries, International TV Shows, Science & Nature TV",
          "Dramas, International Movies, Sci-Fi & Fantasy",
          "International TV Shows, TV Dramas, Teen TV Shows",
          "Action & Adventure, Dramas, Independent Movies",
          "Dramas, International Movies, LGBTQ Movies",
          "Comedies, Cult Movies",
          "International TV Shows, TV Dramas, TV Thrillers",
          "British TV Shows, Docuseries",
          "Sci-Fi & Fantasy, Thrillers",
          "Dramas, Faith & Spirituality, International Movies",
          "Comedies, Horror Movies",
          "Children & Family Movies, Dramas, International Movies",
          "Crime TV Shows, TV Action & Adventure, TV Dramas",
          "Children & Family Movies, Comedies, Sci-Fi & Fantasy",
          "Action & Adventure, Horror Movies, Sci-Fi & Fantasy",
          "Reality TV, Romantic TV Shows",
          "Independent Movies, Thrillers",
          "Anime Series, Crime TV Shows, International TV Shows",
          "British TV Shows, TV Comedies",
          "Classic Movies, Dramas",
          "Romantic TV Shows, TV Comedies, TV Dramas",
          "Classic Movies, Documentaries",
          "Action & Adventure, International Movies, Music & Musicals",
          "International Movies, Music & Musicals",
          "International TV Shows, Reality TV, Spanish-Language TV Shows",
          "Crime TV Shows, International TV Shows, TV Comedies",
          "Anime Series",
          "Kids' TV, TV Action & Adventure, TV Sci-Fi & Fantasy",
          "TV Action & Adventure, TV Dramas, TV Sci-Fi & Fantasy",
          "Horror Movies, Independent Movies, International Movies",
          "Music & Musicals",
          "International Movies, Sci-Fi & Fantasy, Thrillers",
          "Anime Series, International TV Shows, Teen TV Shows",
          "Classic Movies, Dramas, Independent Movies",
          "Anime Series, International TV Shows, Romantic TV Shows",
          "British TV Shows, Reality TV",
          "TV Action & Adventure, TV Sci-Fi & Fantasy",
          "Romantic TV Shows, TV Dramas",
          "Children & Family Movies, Dramas, Romantic Movies",
          "International TV Shows, TV Horror, TV Mysteries",
          "International TV Shows, Korean TV Shows, TV Comedies",
          "Children & Family Movies, Documentaries",
          "Action & Adventure, Classic Movies, Dramas",
          "International TV Shows, Reality TV, Romantic TV Shows",
          "TV Dramas, TV Horror, TV Mysteries",
          "Children & Family Movies, Dramas, Sports Movies",
          "Crime TV Shows, TV Comedies, TV Dramas",
          "Action & Adventure, Comedies, Sci-Fi & Fantasy",
          "Dramas, Independent Movies, Sports Movies",
          "Comedies, International Movies, LGBTQ Movies",
          "Docuseries, International TV Shows, Spanish-Language TV Shows",
          "Documentaries, Faith & Spirituality",
          "Comedies, Sports Movies",
          "International TV Shows, TV Dramas, TV Sci-Fi & Fantasy",
          "Children & Family Movies, Sci-Fi & Fantasy",
          "Children & Family Movies, Comedies, Romantic Movies",
          "Dramas, Independent Movies, Music & Musicals",
          "Comedies, Independent Movies, Romantic Movies",
          "Documentaries, International Movies, LGBTQ Movies",
          "Dramas, Music & Musicals",
          "Kids' TV, TV Action & Adventure, TV Comedies",
          "Crime TV Shows, International TV Shows, Romantic TV Shows",
          "Dramas, Independent Movies, Sci-Fi & Fantasy",
          "Comedies, Music & Musicals",
          "British TV Shows, Kids' TV, TV Comedies",
          "TV Comedies, TV Dramas, Teen TV Shows",
          "Dramas, LGBTQ Movies",
          "International TV Shows, Stand-Up Comedy & Talk Shows, TV Comedies",
          "Action & Adventure, Comedies, Independent Movies",
          "Anime Features, Children & Family Movies",
          "Action & Adventure, Independent Movies",
          "British TV Shows, International TV Shows, Romantic TV Shows",
          "Music & Musicals, Stand-Up Comedy",
          "Crime TV Shows, TV Dramas, TV Thrillers",
          "Action & Adventure, Children & Family Movies, Sci-Fi & Fantasy",
          "Action & Adventure, Documentaries, International Movies",
          "TV Comedies, Teen TV Shows",
          "Children & Family Movies, Documentaries, International Movies",
          "Action & Adventure, International Movies, Romantic Movies",
          "Comedies, Cult Movies, Dramas",
          "TV Dramas, Teen TV Shows",
          "Children & Family Movies, Dramas, Faith & Spirituality",
          "International TV Shows, Korean TV Shows, TV Action & Adventure",
          "Comedies, International Movies, Sports Movies",
          "International Movies, Music & Musicals, Romantic Movies",
          "International TV Shows, TV Action & Adventure, TV Comedies",
          "Horror Movies, Sci-Fi & Fantasy, Thrillers",
          "International TV Shows, Korean TV Shows, Reality TV",
          "Stand-Up Comedy & Talk Shows",
          "Dramas, Sci-Fi & Fantasy",
          "Comedies, International Movies, Sci-Fi & Fantasy",
          "Action & Adventure, Horror Movies",
          "Action & Adventure, Classic Movies, Cult Movies",
          "Classic & Cult TV, TV Comedies",
          "Docuseries, International TV Shows, Reality TV",
          "Children & Family Movies, Sports Movies",
          "International TV Shows, Spanish-Language TV Shows, TV Action & Adventure",
          "Dramas, Romantic Movies, Sci-Fi & Fantasy",
          "Docuseries, Reality TV, Science & Nature TV",
          "British TV Shows, International TV Shows, TV Action & Adventure",
          "TV Dramas, TV Mysteries, TV Sci-Fi & Fantasy",
          "International TV Shows, Stand-Up Comedy & Talk Shows",
          "Anime Series, International TV Shows, TV Thrillers",
          "TV Dramas, TV Thrillers",
          "Action & Adventure, Dramas, Sci-Fi & Fantasy",
          "Action & Adventure, Cult Movies, International Movies",
          "Comedies, Independent Movies, LGBTQ Movies",
          "Cult Movies, Horror Movies",
          "Action & Adventure, Classic Movies",
          "Dramas, Sci-Fi & Fantasy, Thrillers",
          "Comedies, International Movies, Thrillers",
          "Action & Adventure, Independent Movies, Sci-Fi & Fantasy",
          "Action & Adventure, Horror Movies, International Movies",
          "Comedies, Horror Movies, Independent Movies",
          "Children & Family Movies, Comedies, International Movies",
          "Independent Movies, International Movies, Thrillers",
          "Kids' TV, TV Thrillers",
          "Action & Adventure, Children & Family Movies, Comedies",
          "Dramas, Music & Musicals, Romantic Movies",
          "Kids' TV, TV Comedies, TV Dramas",
          "TV Horror, TV Mysteries, TV Sci-Fi & Fantasy",
          "Action & Adventure, Children & Family Movies, Classic Movies",
          "Action & Adventure, Comedies, Cult Movies",
          "Crime TV Shows, Docuseries, TV Mysteries",
          "Comedies, Horror Movies, Sci-Fi & Fantasy",
          "Action & Adventure, Comedies, Romantic Movies",
          "British TV Shows, Crime TV Shows, TV Dramas",
          "Comedies, Dramas, Music & Musicals",
          "Crime TV Shows, TV Action & Adventure, TV Comedies",
          "Action & Adventure, Anime Features, Children & Family Movies",
          "Classic Movies, Comedies, Dramas",
          "TV Action & Adventure, TV Dramas",
          "TV Horror, TV Mysteries, TV Thrillers",
          "Kids' TV, Spanish-Language TV Shows",
          "Action & Adventure, Thrillers",
          "Comedies, Dramas, LGBTQ Movies",
          "Horror Movies, Sci-Fi & Fantasy",
          "Action & Adventure, Anime Features, Sci-Fi & Fantasy",
          "Romantic TV Shows, TV Comedies",
          "International TV Shows, Romantic TV Shows, Teen TV Shows",
          "Classic & Cult TV, Crime TV Shows, International TV Shows",
          "Kids' TV, Korean TV Shows, TV Comedies",
          "International TV Shows, TV Action & Adventure, TV Sci-Fi & Fantasy",
          "International Movies, Sci-Fi & Fantasy",
          "Action & Adventure, Classic Movies, Comedies",
          "International TV Shows, Romantic TV Shows",
          "TV Action & Adventure, TV Dramas, TV Horror",
          "Anime Features, Children & Family Movies, International Movies",
          "Horror Movies, Independent Movies, Sci-Fi & Fantasy",
          "International TV Shows, Korean TV Shows, Stand-Up Comedy & Talk Shows",
          "Action & Adventure, Dramas, Sports Movies",
          "Independent Movies, Sci-Fi & Fantasy, Thrillers",
          "Reality TV, TV Comedies",
          "Romantic Movies",
          "International Movies",
          "International TV Shows, TV Comedies, TV Sci-Fi & Fantasy",
          "Kids' TV, TV Dramas",
          "Children & Family Movies, Classic Movies, Comedies",
          "Anime Series, Crime TV Shows",
          "International TV Shows, Romantic TV Shows, TV Action & Adventure",
          "TV Dramas, TV Sci-Fi & Fantasy",
          "International TV Shows, TV Horror, TV Thrillers",
          "British TV Shows, Classic & Cult TV, International TV Shows",
          "Docuseries, TV Comedies",
          "Docuseries, Spanish-Language TV Shows",
          "TV Action & Adventure, TV Comedies, TV Horror",
          "Classic Movies, Comedies, Cult Movies",
          "Dramas, Romantic Movies, Sports Movies",
          "Comedies, Cult Movies, International Movies",
          "Anime Series, International TV Shows, TV Horror",
          "Anime Series, Romantic TV Shows, Teen TV Shows",
          "Crime TV Shows, TV Action & Adventure",
          "Children & Family Movies, Comedies, Sports Movies",
          "International Movies, Music & Musicals, Thrillers",
          "Comedies, Cult Movies, Horror Movies",
          "Children & Family Movies, Dramas, Independent Movies",
          "Action & Adventure, Children & Family Movies, Dramas",
          "Docuseries, Stand-Up Comedy & Talk Shows",
          "Documentaries, Faith & Spirituality, International Movies",
          "Comedies, Faith & Spirituality, International Movies",
          "Action & Adventure, Romantic Movies",
          "International Movies, LGBTQ Movies, Romantic Movies",
          "Action & Adventure, Independent Movies, International Movies",
          "Comedies, Sci-Fi & Fantasy",
          "Reality TV, Teen TV Shows",
          "Classic Movies, Dramas, Romantic Movies",
          "Anime Series, Teen TV Shows",
          "Action & Adventure, Cult Movies, Sci-Fi & Fantasy",
          "Classic Movies, Comedies, International Movies",
          "Classic Movies, Cult Movies, Dramas",
          "Action & Adventure, Dramas, Faith & Spirituality",
          "International TV Shows",
          "Children & Family Movies, Independent Movies",
          "TV Comedies, TV Sci-Fi & Fantasy",
          "Documentaries, LGBTQ Movies, Sports Movies",
          "British TV Shows, Reality TV, Romantic TV Shows",
          "Kids' TV, TV Dramas, Teen TV Shows",
          "Classic Movies, Dramas, Music & Musicals",
          "Anime Series, Romantic TV Shows",
          "Anime Features, Music & Musicals, Sci-Fi & Fantasy",
          "Kids' TV, TV Comedies, TV Sci-Fi & Fantasy",
          "Kids' TV, TV Sci-Fi & Fantasy",
          "Children & Family Movies, Documentaries, Sports Movies",
          "Classic Movies, Comedies, Independent Movies",
          "Crime TV Shows, Spanish-Language TV Shows, TV Action & Adventure",
          "Horror Movies, LGBTQ Movies",
          "Anime Features, International Movies, Romantic Movies",
          "Horror Movies, International Movies, Romantic Movies",
          "Comedies, Cult Movies, Music & Musicals",
          "Docuseries, Science & Nature TV, TV Action & Adventure",
          "TV Action & Adventure, TV Comedies, TV Sci-Fi & Fantasy",
          "Dramas, Faith & Spirituality, Romantic Movies",
          "Classic & Cult TV, TV Action & Adventure, TV Horror",
          "Anime Features, International Movies",
          "Anime Series, TV Horror, TV Thrillers",
          "Action & Adventure, Dramas, Romantic Movies",
          "Comedies, Dramas, Faith & Spirituality",
          "Reality TV, TV Comedies, TV Horror",
          "Crime TV Shows, Docuseries, Science & Nature TV",
          "British TV Shows, Romantic TV Shows, TV Dramas",
          "TV Horror, Teen TV Shows",
          "Romantic TV Shows, TV Dramas, Teen TV Shows",
          "Crime TV Shows, Romantic TV Shows, TV Dramas",
          "Romantic TV Shows, TV Dramas, TV Sci-Fi & Fantasy",
          "Comedies, Documentaries",
          "International TV Shows, Reality TV, TV Comedies",
          "Action & Adventure, International Movies, Sports Movies",
          "Classic Movies, Cult Movies, Horror Movies",
          "Children & Family Movies, Dramas, Music & Musicals",
          "International TV Shows, TV Mysteries, TV Thrillers",
          "Action & Adventure, Horror Movies, Thrillers",
          "Action & Adventure, Sports Movies",
          "Documentaries, Stand-Up Comedy",
          "International Movies, Romantic Movies, Thrillers",
          "Action & Adventure, International Movies, Thrillers",
          "TV Action & Adventure, TV Mysteries, TV Sci-Fi & Fantasy",
          "Documentaries, Horror Movies",
          "Dramas, LGBTQ Movies, Romantic Movies",
          "Reality TV, Science & Nature TV",
          "Dramas, Romantic Movies, Thrillers",
          "TV Action & Adventure, TV Dramas, TV Mysteries",
          "Cult Movies, Horror Movies, Independent Movies",
          "British TV Shows, Kids' TV, TV Dramas",
          "Comedies, Independent Movies, Thrillers",
          "TV Dramas, TV Mysteries, TV Thrillers",
          "Documentaries, LGBTQ Movies, Music & Musicals",
          "Action & Adventure, Children & Family Movies",
          "Crime TV Shows, Spanish-Language TV Shows, TV Dramas",
          "Comedies, Faith & Spirituality, Romantic Movies",
          "Docuseries, TV Dramas",
          "Action & Adventure, Anime Features, Classic Movies",
          "Classic Movies, Dramas, Sports Movies",
          "Documentaries, Dramas, International Movies",
          "Kids' TV, TV Action & Adventure",
          "Crime TV Shows, TV Action & Adventure, TV Thrillers",
          "Comedies, Music & Musicals, Romantic Movies",
          "Crime TV Shows, Kids' TV, TV Comedies",
          "International TV Shows, TV Action & Adventure, TV Mysteries",
          "Comedies, LGBTQ Movies",
          "Classic & Cult TV, TV Action & Adventure, TV Sci-Fi & Fantasy",
          "Classic Movies, Comedies, Music & Musicals",
          "British TV Shows, Classic & Cult TV, TV Comedies",
          "Spanish-Language TV Shows, TV Dramas",
          "International TV Shows, Spanish-Language TV Shows, Stand-Up Comedy & Talk Shows",
          "Classic & Cult TV, TV Action & Adventure, TV Dramas",
          "Classic & Cult TV, TV Horror, TV Mysteries",
          "Classic & Cult TV, Kids' TV, TV Action & Adventure",
          "Comedies, Cult Movies, Sci-Fi & Fantasy",
          "Dramas, Horror Movies, Music & Musicals",
          "Reality TV, Spanish-Language TV Shows",
          "Anime Series, Stand-Up Comedy & Talk Shows",
          "Docuseries, Kids' TV, Science & Nature TV",
          "TV Dramas, TV Sci-Fi & Fantasy, Teen TV Shows",
          "British TV Shows, Classic & Cult TV, Kids' TV",
          "International TV Shows, Kids' TV, TV Mysteries",
          "Anime Series, International TV Shows, Spanish-Language TV Shows",
          "Comedies, Documentaries, International Movies",
          "Romantic TV Shows, Spanish-Language TV Shows, TV Dramas",
          "TV Comedies, TV Dramas, TV Sci-Fi & Fantasy",
          "International Movies, Sports Movies",
          "International Movies, Romantic Movies, Sci-Fi & Fantasy",
          "Action & Adventure, Anime Features",
          "British TV Shows, Docuseries, Reality TV",
          "TV Dramas, TV Sci-Fi & Fantasy, TV Thrillers",
          "TV Comedies, TV Dramas, TV Mysteries",
          "TV Comedies, TV Dramas, TV Horror",
          "Children & Family Movies, Comedies, Cult Movies",
          "Action & Adventure, Children & Family Movies, Independent Movies",
          "Crime TV Shows, TV Horror, TV Mysteries",
          "Dramas, Horror Movies, Sci-Fi & Fantasy",
          "Action & Adventure, Faith & Spirituality, Sci-Fi & Fantasy",
          "Classic & Cult TV, TV Dramas, TV Sci-Fi & Fantasy",
          "International TV Shows, Spanish-Language TV Shows, TV Horror",
          "Reality TV, TV Action & Adventure, TV Mysteries",
          "Docuseries, Reality TV, Teen TV Shows",
          "Docuseries, TV Sci-Fi & Fantasy",
          "Crime TV Shows, TV Dramas, TV Horror",
          "Anime Features",
          "Action & Adventure, Sci-Fi & Fantasy, Thrillers",
          "Crime TV Shows, TV Comedies",
          "British TV Shows, TV Horror, TV Thrillers",
          "Crime TV Shows, Kids' TV",
          "Reality TV, Science & Nature TV, TV Action & Adventure",
          "Anime Features, International Movies, Sci-Fi & Fantasy",
          "Action & Adventure, Documentaries, Sports Movies",
          "Docuseries, Science & Nature TV, TV Comedies",
          "Action & Adventure, Comedies, Sports Movies",
          "Children & Family Movies, Comedies, LGBTQ Movies",
          "Cult Movies, Dramas, International Movies",
          "Comedies, LGBTQ Movies, Thrillers",
          "Classic & Cult TV, Crime TV Shows, TV Dramas",
          "Horror Movies, LGBTQ Movies, Music & Musicals",
          "International TV Shows, Korean TV Shows, TV Horror",
          "Classic Movies, Horror Movies, Thrillers",
          "International TV Shows, TV Action & Adventure, TV Horror",
          "Children & Family Movies, Faith & Spirituality, Music & Musicals",
          "Dramas, Faith & Spirituality, Independent Movies",
          "Crime TV Shows, International TV Shows, TV Thrillers",
          "British TV Shows, TV Dramas, TV Sci-Fi & Fantasy",
          "Classic Movies, Cult Movies, Documentaries",
          "International TV Shows, TV Horror, TV Sci-Fi & Fantasy",
          "Comedies, Cult Movies, Sports Movies",
          "Children & Family Movies, Classic Movies",
          "TV Action & Adventure, TV Comedies, TV Dramas",
          "Cult Movies, Dramas, Music & Musicals",
          "LGBTQ Movies, Thrillers",
          "Anime Series, Kids' TV, TV Action & Adventure",
          "Children & Family Movies, Faith & Spirituality",
          "Crime TV Shows, TV Action & Adventure, TV Sci-Fi & Fantasy",
          "Comedies, Dramas, Sports Movies",
          "TV Horror, TV Mysteries, Teen TV Shows",
          "Classic Movies, Thrillers",
          "Action & Adventure, Anime Features, Horror Movies",
          "Documentaries, Faith & Spirituality, Music & Musicals",
          "Comedies, Cult Movies, Independent Movies",
          "Docuseries, Science & Nature TV, TV Dramas",
          "Action & Adventure, Classic Movies, Sci-Fi & Fantasy",
          "Dramas, Faith & Spirituality, Sports Movies",
          "Cult Movies, Independent Movies, Thrillers",
          "Documentaries, Dramas",
          "Crime TV Shows, International TV Shows, TV Sci-Fi & Fantasy",
          "Comedies, LGBTQ Movies, Music & Musicals",
          "Action & Adventure, Classic Movies, International Movies",
          "Action & Adventure, Comedies, Horror Movies",
          "Action & Adventure, Cult Movies",
          "Comedies, Music & Musicals, Sports Movies",
          "Romantic TV Shows, Teen TV Shows",
          "Independent Movies",
          "Kids' TV, TV Action & Adventure, TV Dramas",
          "TV Sci-Fi & Fantasy, TV Thrillers",
          "Crime TV Shows, International TV Shows, Reality TV",
          "Sci-Fi & Fantasy",
          "International TV Shows, Romantic TV Shows, TV Mysteries",
          "Cult Movies, Horror Movies, Thrillers",
          "Anime Features, Romantic Movies",
          "Children & Family Movies, Comedies, Faith & Spirituality",
          "Comedies, Cult Movies, LGBTQ Movies",
          "Classic & Cult TV, TV Sci-Fi & Fantasy",
          "Cult Movies, Dramas, Thrillers",
          "Romantic TV Shows, Spanish-Language TV Shows, TV Comedies",
          "TV Comedies, TV Mysteries",
          "Crime TV Shows, TV Comedies, Teen TV Shows",
          "Kids' TV, Reality TV, TV Dramas",
          "Action & Adventure, Children & Family Movies, Cult Movies",
          "TV Comedies, TV Horror, TV Thrillers",
          "Children & Family Movies, Classic Movies, Dramas",
          "Anime Series, Crime TV Shows, TV Horror",
          "Classic Movies, Comedies, Romantic Movies",
          "British TV Shows, International TV Shows, Stand-Up Comedy & Talk Shows",
          "Classic Movies, Comedies, Sports Movies",
          "Classic Movies, Independent Movies, Thrillers",
          "British TV Shows, Kids' TV, TV Thrillers",
          "Stand-Up Comedy & Talk Shows, TV Mysteries, TV Sci-Fi & Fantasy",
          "British TV Shows, Docuseries, TV Comedies",
          "Horror Movies, Romantic Movies, Sci-Fi & Fantasy",
          "Dramas, Horror Movies, Thrillers",
          "TV Comedies, TV Sci-Fi & Fantasy, Teen TV Shows",
          "International TV Shows, Reality TV, TV Action & Adventure",
          "Classic & Cult TV, Kids' TV, Spanish-Language TV Shows",
          "Action & Adventure, Romantic Movies, Sci-Fi & Fantasy",
          "Reality TV, TV Horror, TV Thrillers",
          "Action & Adventure, Sci-Fi & Fantasy, Sports Movies",
          "Kids' TV, Spanish-Language TV Shows, Teen TV Shows",
          "Anime Features, Documentaries",
          "Romantic TV Shows, TV Action & Adventure, TV Dramas",
          "TV Action & Adventure, TV Dramas, Teen TV Shows",
          "Action & Adventure, Horror Movies, Independent Movies",
          "Crime TV Shows, Romantic TV Shows, Spanish-Language TV Shows",
          "Comedies, Romantic Movies, Sports Movies",
          "Crime TV Shows, International TV Shows, TV Mysteries",
          "Classic Movies, Music & Musicals",
          "Comedies, Independent Movies, Music & Musicals",
          "Sports Movies",
          "Anime Series, Crime TV Shows, TV Thrillers",
          "TV Action & Adventure",
          "Anime Features, Music & Musicals",
          "Action & Adventure, Comedies, Music & Musicals",
          "TV Action & Adventure, TV Horror, TV Sci-Fi & Fantasy",
          "British TV Shows, TV Comedies, TV Dramas",
          "Kids' TV, Reality TV, Science & Nature TV",
          "Horror Movies, International Movies, Sci-Fi & Fantasy",
          "Action & Adventure, Cult Movies, Dramas",
          "Music & Musicals, Romantic Movies",
          "Classic & Cult TV, Kids' TV, TV Comedies",
          "Kids' TV, TV Comedies, Teen TV Shows",
          "TV Action & Adventure, TV Comedies",
          "Classic Movies, Dramas, LGBTQ Movies"
         ],
         "legendgroup": "",
         "name": "",
         "showlegend": true,
         "textinfo": "percent+label",
         "textposition": "inside",
         "type": "pie",
         "values": [
          362,
          359,
          334,
          274,
          252,
          220,
          215,
          201,
          186,
          180,
          176,
          152,
          138,
          134,
          132,
          128,
          121,
          116,
          110,
          110,
          101,
          100,
          99,
          95,
          94,
          90,
          88,
          85,
          82,
          82,
          80,
          70,
          69,
          67,
          65,
          65,
          65,
          62,
          62,
          57,
          57,
          57,
          55,
          55,
          54,
          52,
          51,
          50,
          45,
          44,
          41,
          40,
          38,
          38,
          38,
          35,
          35,
          34,
          33,
          31,
          30,
          30,
          29,
          29,
          28,
          27,
          27,
          27,
          26,
          26,
          25,
          25,
          25,
          25,
          24,
          23,
          23,
          22,
          22,
          21,
          21,
          20,
          20,
          20,
          19,
          19,
          19,
          18,
          18,
          18,
          18,
          18,
          17,
          17,
          17,
          17,
          16,
          16,
          16,
          16,
          16,
          16,
          16,
          15,
          15,
          15,
          14,
          13,
          13,
          13,
          12,
          12,
          12,
          12,
          12,
          12,
          12,
          12,
          11,
          11,
          11,
          11,
          11,
          11,
          11,
          11,
          11,
          11,
          11,
          11,
          11,
          10,
          10,
          10,
          10,
          10,
          10,
          10,
          9,
          9,
          9,
          9,
          9,
          9,
          9,
          9,
          9,
          9,
          9,
          9,
          9,
          9,
          9,
          9,
          8,
          8,
          8,
          8,
          8,
          8,
          8,
          8,
          8,
          8,
          8,
          7,
          7,
          7,
          7,
          7,
          7,
          7,
          7,
          7,
          7,
          7,
          7,
          7,
          7,
          7,
          7,
          6,
          6,
          6,
          6,
          6,
          6,
          6,
          6,
          6,
          6,
          6,
          6,
          6,
          6,
          6,
          6,
          6,
          6,
          5,
          5,
          5,
          5,
          5,
          5,
          5,
          5,
          5,
          5,
          5,
          5,
          5,
          5,
          5,
          5,
          5,
          5,
          5,
          5,
          5,
          5,
          5,
          5,
          5,
          5,
          5,
          4,
          4,
          4,
          4,
          4,
          4,
          4,
          4,
          4,
          4,
          4,
          4,
          4,
          4,
          4,
          4,
          4,
          4,
          4,
          4,
          4,
          4,
          4,
          4,
          4,
          4,
          3,
          3,
          3,
          3,
          3,
          3,
          3,
          3,
          3,
          3,
          3,
          3,
          3,
          3,
          3,
          3,
          3,
          3,
          3,
          3,
          3,
          3,
          3,
          3,
          3,
          3,
          3,
          3,
          3,
          3,
          3,
          3,
          3,
          3,
          3,
          3,
          3,
          3,
          3,
          3,
          3,
          3,
          3,
          3,
          2,
          2,
          2,
          2,
          2,
          2,
          2,
          2,
          2,
          2,
          2,
          2,
          2,
          2,
          2,
          2,
          2,
          2,
          2,
          2,
          2,
          2,
          2,
          2,
          2,
          2,
          2,
          2,
          2,
          2,
          2,
          2,
          2,
          2,
          2,
          2,
          2,
          2,
          2,
          2,
          2,
          2,
          2,
          2,
          2,
          2,
          2,
          2,
          2,
          2,
          2,
          2,
          2,
          2,
          2,
          2,
          2,
          2,
          2,
          2,
          2,
          2,
          2,
          2,
          2,
          2,
          2,
          2,
          2,
          2,
          2,
          2,
          2,
          2,
          2,
          2,
          1,
          1,
          1,
          1,
          1,
          1,
          1,
          1,
          1,
          1,
          1,
          1,
          1,
          1,
          1,
          1,
          1,
          1,
          1,
          1,
          1,
          1,
          1,
          1,
          1,
          1,
          1,
          1,
          1,
          1,
          1,
          1,
          1,
          1,
          1,
          1,
          1,
          1,
          1,
          1,
          1,
          1,
          1,
          1,
          1,
          1,
          1,
          1,
          1,
          1,
          1,
          1,
          1,
          1,
          1,
          1,
          1,
          1,
          1,
          1,
          1,
          1,
          1,
          1,
          1,
          1,
          1,
          1,
          1,
          1,
          1,
          1,
          1,
          1,
          1,
          1,
          1,
          1,
          1,
          1,
          1,
          1,
          1,
          1,
          1,
          1,
          1,
          1,
          1,
          1,
          1,
          1,
          1,
          1,
          1,
          1,
          1,
          1,
          1,
          1,
          1,
          1,
          1,
          1,
          1,
          1,
          1,
          1,
          1,
          1,
          1,
          1,
          1,
          1,
          1,
          1,
          1,
          1,
          1,
          1,
          1,
          1,
          1,
          1,
          1,
          1,
          1,
          1,
          1,
          1,
          1,
          1,
          1,
          1,
          1,
          1,
          1,
          1,
          1,
          1,
          1,
          1
         ]
        }
       ],
       "layout": {
        "legend": {
         "tracegroupgap": 0
        },
        "margin": {
         "t": 60
        },
        "template": {
         "data": {
          "bar": [
           {
            "error_x": {
             "color": "#2a3f5f"
            },
            "error_y": {
             "color": "#2a3f5f"
            },
            "marker": {
             "line": {
              "color": "#E5ECF6",
              "width": 0.5
             },
             "pattern": {
              "fillmode": "overlay",
              "size": 10,
              "solidity": 0.2
             }
            },
            "type": "bar"
           }
          ],
          "barpolar": [
           {
            "marker": {
             "line": {
              "color": "#E5ECF6",
              "width": 0.5
             },
             "pattern": {
              "fillmode": "overlay",
              "size": 10,
              "solidity": 0.2
             }
            },
            "type": "barpolar"
           }
          ],
          "carpet": [
           {
            "aaxis": {
             "endlinecolor": "#2a3f5f",
             "gridcolor": "white",
             "linecolor": "white",
             "minorgridcolor": "white",
             "startlinecolor": "#2a3f5f"
            },
            "baxis": {
             "endlinecolor": "#2a3f5f",
             "gridcolor": "white",
             "linecolor": "white",
             "minorgridcolor": "white",
             "startlinecolor": "#2a3f5f"
            },
            "type": "carpet"
           }
          ],
          "choropleth": [
           {
            "colorbar": {
             "outlinewidth": 0,
             "ticks": ""
            },
            "type": "choropleth"
           }
          ],
          "contour": [
           {
            "colorbar": {
             "outlinewidth": 0,
             "ticks": ""
            },
            "colorscale": [
             [
              0,
              "#0d0887"
             ],
             [
              0.1111111111111111,
              "#46039f"
             ],
             [
              0.2222222222222222,
              "#7201a8"
             ],
             [
              0.3333333333333333,
              "#9c179e"
             ],
             [
              0.4444444444444444,
              "#bd3786"
             ],
             [
              0.5555555555555556,
              "#d8576b"
             ],
             [
              0.6666666666666666,
              "#ed7953"
             ],
             [
              0.7777777777777778,
              "#fb9f3a"
             ],
             [
              0.8888888888888888,
              "#fdca26"
             ],
             [
              1,
              "#f0f921"
             ]
            ],
            "type": "contour"
           }
          ],
          "contourcarpet": [
           {
            "colorbar": {
             "outlinewidth": 0,
             "ticks": ""
            },
            "type": "contourcarpet"
           }
          ],
          "heatmap": [
           {
            "colorbar": {
             "outlinewidth": 0,
             "ticks": ""
            },
            "colorscale": [
             [
              0,
              "#0d0887"
             ],
             [
              0.1111111111111111,
              "#46039f"
             ],
             [
              0.2222222222222222,
              "#7201a8"
             ],
             [
              0.3333333333333333,
              "#9c179e"
             ],
             [
              0.4444444444444444,
              "#bd3786"
             ],
             [
              0.5555555555555556,
              "#d8576b"
             ],
             [
              0.6666666666666666,
              "#ed7953"
             ],
             [
              0.7777777777777778,
              "#fb9f3a"
             ],
             [
              0.8888888888888888,
              "#fdca26"
             ],
             [
              1,
              "#f0f921"
             ]
            ],
            "type": "heatmap"
           }
          ],
          "heatmapgl": [
           {
            "colorbar": {
             "outlinewidth": 0,
             "ticks": ""
            },
            "colorscale": [
             [
              0,
              "#0d0887"
             ],
             [
              0.1111111111111111,
              "#46039f"
             ],
             [
              0.2222222222222222,
              "#7201a8"
             ],
             [
              0.3333333333333333,
              "#9c179e"
             ],
             [
              0.4444444444444444,
              "#bd3786"
             ],
             [
              0.5555555555555556,
              "#d8576b"
             ],
             [
              0.6666666666666666,
              "#ed7953"
             ],
             [
              0.7777777777777778,
              "#fb9f3a"
             ],
             [
              0.8888888888888888,
              "#fdca26"
             ],
             [
              1,
              "#f0f921"
             ]
            ],
            "type": "heatmapgl"
           }
          ],
          "histogram": [
           {
            "marker": {
             "pattern": {
              "fillmode": "overlay",
              "size": 10,
              "solidity": 0.2
             }
            },
            "type": "histogram"
           }
          ],
          "histogram2d": [
           {
            "colorbar": {
             "outlinewidth": 0,
             "ticks": ""
            },
            "colorscale": [
             [
              0,
              "#0d0887"
             ],
             [
              0.1111111111111111,
              "#46039f"
             ],
             [
              0.2222222222222222,
              "#7201a8"
             ],
             [
              0.3333333333333333,
              "#9c179e"
             ],
             [
              0.4444444444444444,
              "#bd3786"
             ],
             [
              0.5555555555555556,
              "#d8576b"
             ],
             [
              0.6666666666666666,
              "#ed7953"
             ],
             [
              0.7777777777777778,
              "#fb9f3a"
             ],
             [
              0.8888888888888888,
              "#fdca26"
             ],
             [
              1,
              "#f0f921"
             ]
            ],
            "type": "histogram2d"
           }
          ],
          "histogram2dcontour": [
           {
            "colorbar": {
             "outlinewidth": 0,
             "ticks": ""
            },
            "colorscale": [
             [
              0,
              "#0d0887"
             ],
             [
              0.1111111111111111,
              "#46039f"
             ],
             [
              0.2222222222222222,
              "#7201a8"
             ],
             [
              0.3333333333333333,
              "#9c179e"
             ],
             [
              0.4444444444444444,
              "#bd3786"
             ],
             [
              0.5555555555555556,
              "#d8576b"
             ],
             [
              0.6666666666666666,
              "#ed7953"
             ],
             [
              0.7777777777777778,
              "#fb9f3a"
             ],
             [
              0.8888888888888888,
              "#fdca26"
             ],
             [
              1,
              "#f0f921"
             ]
            ],
            "type": "histogram2dcontour"
           }
          ],
          "mesh3d": [
           {
            "colorbar": {
             "outlinewidth": 0,
             "ticks": ""
            },
            "type": "mesh3d"
           }
          ],
          "parcoords": [
           {
            "line": {
             "colorbar": {
              "outlinewidth": 0,
              "ticks": ""
             }
            },
            "type": "parcoords"
           }
          ],
          "pie": [
           {
            "automargin": true,
            "type": "pie"
           }
          ],
          "scatter": [
           {
            "marker": {
             "colorbar": {
              "outlinewidth": 0,
              "ticks": ""
             }
            },
            "type": "scatter"
           }
          ],
          "scatter3d": [
           {
            "line": {
             "colorbar": {
              "outlinewidth": 0,
              "ticks": ""
             }
            },
            "marker": {
             "colorbar": {
              "outlinewidth": 0,
              "ticks": ""
             }
            },
            "type": "scatter3d"
           }
          ],
          "scattercarpet": [
           {
            "marker": {
             "colorbar": {
              "outlinewidth": 0,
              "ticks": ""
             }
            },
            "type": "scattercarpet"
           }
          ],
          "scattergeo": [
           {
            "marker": {
             "colorbar": {
              "outlinewidth": 0,
              "ticks": ""
             }
            },
            "type": "scattergeo"
           }
          ],
          "scattergl": [
           {
            "marker": {
             "colorbar": {
              "outlinewidth": 0,
              "ticks": ""
             }
            },
            "type": "scattergl"
           }
          ],
          "scattermapbox": [
           {
            "marker": {
             "colorbar": {
              "outlinewidth": 0,
              "ticks": ""
             }
            },
            "type": "scattermapbox"
           }
          ],
          "scatterpolar": [
           {
            "marker": {
             "colorbar": {
              "outlinewidth": 0,
              "ticks": ""
             }
            },
            "type": "scatterpolar"
           }
          ],
          "scatterpolargl": [
           {
            "marker": {
             "colorbar": {
              "outlinewidth": 0,
              "ticks": ""
             }
            },
            "type": "scatterpolargl"
           }
          ],
          "scatterternary": [
           {
            "marker": {
             "colorbar": {
              "outlinewidth": 0,
              "ticks": ""
             }
            },
            "type": "scatterternary"
           }
          ],
          "surface": [
           {
            "colorbar": {
             "outlinewidth": 0,
             "ticks": ""
            },
            "colorscale": [
             [
              0,
              "#0d0887"
             ],
             [
              0.1111111111111111,
              "#46039f"
             ],
             [
              0.2222222222222222,
              "#7201a8"
             ],
             [
              0.3333333333333333,
              "#9c179e"
             ],
             [
              0.4444444444444444,
              "#bd3786"
             ],
             [
              0.5555555555555556,
              "#d8576b"
             ],
             [
              0.6666666666666666,
              "#ed7953"
             ],
             [
              0.7777777777777778,
              "#fb9f3a"
             ],
             [
              0.8888888888888888,
              "#fdca26"
             ],
             [
              1,
              "#f0f921"
             ]
            ],
            "type": "surface"
           }
          ],
          "table": [
           {
            "cells": {
             "fill": {
              "color": "#EBF0F8"
             },
             "line": {
              "color": "white"
             }
            },
            "header": {
             "fill": {
              "color": "#C8D4E3"
             },
             "line": {
              "color": "white"
             }
            },
            "type": "table"
           }
          ]
         },
         "layout": {
          "annotationdefaults": {
           "arrowcolor": "#2a3f5f",
           "arrowhead": 0,
           "arrowwidth": 1
          },
          "autotypenumbers": "strict",
          "coloraxis": {
           "colorbar": {
            "outlinewidth": 0,
            "ticks": ""
           }
          },
          "colorscale": {
           "diverging": [
            [
             0,
             "#8e0152"
            ],
            [
             0.1,
             "#c51b7d"
            ],
            [
             0.2,
             "#de77ae"
            ],
            [
             0.3,
             "#f1b6da"
            ],
            [
             0.4,
             "#fde0ef"
            ],
            [
             0.5,
             "#f7f7f7"
            ],
            [
             0.6,
             "#e6f5d0"
            ],
            [
             0.7,
             "#b8e186"
            ],
            [
             0.8,
             "#7fbc41"
            ],
            [
             0.9,
             "#4d9221"
            ],
            [
             1,
             "#276419"
            ]
           ],
           "sequential": [
            [
             0,
             "#0d0887"
            ],
            [
             0.1111111111111111,
             "#46039f"
            ],
            [
             0.2222222222222222,
             "#7201a8"
            ],
            [
             0.3333333333333333,
             "#9c179e"
            ],
            [
             0.4444444444444444,
             "#bd3786"
            ],
            [
             0.5555555555555556,
             "#d8576b"
            ],
            [
             0.6666666666666666,
             "#ed7953"
            ],
            [
             0.7777777777777778,
             "#fb9f3a"
            ],
            [
             0.8888888888888888,
             "#fdca26"
            ],
            [
             1,
             "#f0f921"
            ]
           ],
           "sequentialminus": [
            [
             0,
             "#0d0887"
            ],
            [
             0.1111111111111111,
             "#46039f"
            ],
            [
             0.2222222222222222,
             "#7201a8"
            ],
            [
             0.3333333333333333,
             "#9c179e"
            ],
            [
             0.4444444444444444,
             "#bd3786"
            ],
            [
             0.5555555555555556,
             "#d8576b"
            ],
            [
             0.6666666666666666,
             "#ed7953"
            ],
            [
             0.7777777777777778,
             "#fb9f3a"
            ],
            [
             0.8888888888888888,
             "#fdca26"
            ],
            [
             1,
             "#f0f921"
            ]
           ]
          },
          "colorway": [
           "#636efa",
           "#EF553B",
           "#00cc96",
           "#ab63fa",
           "#FFA15A",
           "#19d3f3",
           "#FF6692",
           "#B6E880",
           "#FF97FF",
           "#FECB52"
          ],
          "font": {
           "color": "#2a3f5f"
          },
          "geo": {
           "bgcolor": "white",
           "lakecolor": "white",
           "landcolor": "#E5ECF6",
           "showlakes": true,
           "showland": true,
           "subunitcolor": "white"
          },
          "hoverlabel": {
           "align": "left"
          },
          "hovermode": "closest",
          "mapbox": {
           "style": "light"
          },
          "paper_bgcolor": "white",
          "plot_bgcolor": "#E5ECF6",
          "polar": {
           "angularaxis": {
            "gridcolor": "white",
            "linecolor": "white",
            "ticks": ""
           },
           "bgcolor": "#E5ECF6",
           "radialaxis": {
            "gridcolor": "white",
            "linecolor": "white",
            "ticks": ""
           }
          },
          "scene": {
           "xaxis": {
            "backgroundcolor": "#E5ECF6",
            "gridcolor": "white",
            "gridwidth": 2,
            "linecolor": "white",
            "showbackground": true,
            "ticks": "",
            "zerolinecolor": "white"
           },
           "yaxis": {
            "backgroundcolor": "#E5ECF6",
            "gridcolor": "white",
            "gridwidth": 2,
            "linecolor": "white",
            "showbackground": true,
            "ticks": "",
            "zerolinecolor": "white"
           },
           "zaxis": {
            "backgroundcolor": "#E5ECF6",
            "gridcolor": "white",
            "gridwidth": 2,
            "linecolor": "white",
            "showbackground": true,
            "ticks": "",
            "zerolinecolor": "white"
           }
          },
          "shapedefaults": {
           "line": {
            "color": "#2a3f5f"
           }
          },
          "ternary": {
           "aaxis": {
            "gridcolor": "white",
            "linecolor": "white",
            "ticks": ""
           },
           "baxis": {
            "gridcolor": "white",
            "linecolor": "white",
            "ticks": ""
           },
           "bgcolor": "#E5ECF6",
           "caxis": {
            "gridcolor": "white",
            "linecolor": "white",
            "ticks": ""
           }
          },
          "title": {
           "x": 0.05
          },
          "xaxis": {
           "automargin": true,
           "gridcolor": "white",
           "linecolor": "white",
           "ticks": "",
           "title": {
            "standoff": 15
           },
           "zerolinecolor": "white",
           "zerolinewidth": 2
          },
          "yaxis": {
           "automargin": true,
           "gridcolor": "white",
           "linecolor": "white",
           "ticks": "",
           "title": {
            "standoff": 15
           },
           "zerolinecolor": "white",
           "zerolinewidth": 2
          }
         }
        }
       }
      },
      "text/html": [
       "<div>                            <div id=\"bcc0fe97-cc1a-4d7e-848a-ee434cc07302\" class=\"plotly-graph-div\" style=\"height:525px; width:100%;\"></div>            <script type=\"text/javascript\">                require([\"plotly\"], function(Plotly) {                    window.PLOTLYENV=window.PLOTLYENV || {};                                    if (document.getElementById(\"bcc0fe97-cc1a-4d7e-848a-ee434cc07302\")) {                    Plotly.newPlot(                        \"bcc0fe97-cc1a-4d7e-848a-ee434cc07302\",                        [{\"domain\":{\"x\":[0.0,1.0],\"y\":[0.0,1.0]},\"hovertemplate\":\"label=%{label}<br>value=%{value}<extra></extra>\",\"labels\":[\"Dramas, International Movies\",\"Documentaries\",\"Stand-Up Comedy\",\"Comedies, Dramas, International Movies\",\"Dramas, Independent Movies, International Movies\",\"Kids' TV\",\"Children & Family Movies\",\"Children & Family Movies, Comedies\",\"Documentaries, International Movies\",\"Dramas, International Movies, Romantic Movies\",\"Comedies, International Movies\",\"Comedies, International Movies, Romantic Movies\",\"Dramas\",\"Dramas, International Movies, Thrillers\",\"Action & Adventure, Dramas, International Movies\",\"Action & Adventure\",\"International TV Shows, TV Dramas\",\"Comedies, Dramas, Independent Movies\",\"Comedies\",\"Crime TV Shows, International TV Shows, TV Dramas\",\"Action & Adventure, International Movies\",\"Dramas, Independent Movies\",\"Kids' TV, TV Comedies\",\"Reality TV\",\"International TV Shows, Romantic TV Shows, TV Comedies\",\"International TV Shows, Romantic TV Shows, TV Dramas\",\"Anime Series, International TV Shows\",\"Docuseries\",\"Documentaries, Music & Musicals\",\"Dramas, Thrillers\",\"Comedies, Romantic Movies\",\"Action & Adventure, Comedies, International Movies\",\"TV Comedies\",\"International Movies, Thrillers\",\"International TV Shows, Korean TV Shows, Romantic TV Shows\",\"Documentaries, Sports Movies\",\"Thrillers\",\"Action & Adventure, Sci-Fi & Fantasy\",\"Crime TV Shows, International TV Shows, Spanish-Language TV Shows\",\"Dramas, International Movies, Music & Musicals\",\"Movies\",\"Horror Movies, International Movies\",\"Horror Movies\",\"Comedies, International Movies, Music & Musicals\",\"Horror Movies, Thrillers\",\"Dramas, Romantic Movies\",\"Action & Adventure, Comedies\",\"Crime TV Shows, Docuseries\",\"Horror Movies, International Movies, Thrillers\",\"Documentaries, International Movies, Sports Movies\",\"Documentaries, International Movies, Music & Musicals\",\"International TV Shows, TV Comedies, TV Dramas\",\"Action & Adventure, Anime Features, International Movies\",\"International TV Shows, Reality TV\",\"Docuseries, Science & Nature TV\",\"TV Dramas\",\"International TV Shows, TV Comedies\",\"Action & Adventure, Dramas\",\"Docuseries, International TV Shows\",\"Dramas, Independent Movies, Thrillers\",\"British TV Shows, Docuseries, International TV Shows\",\"TV Comedies, TV Dramas\",\"Children & Family Movies, Dramas\",\"Comedies, Dramas\",\"Crime TV Shows, Docuseries, International TV Shows\",\"British TV Shows, International TV Shows, Reality TV\",\"Action & Adventure, Comedies, Dramas\",\"Stand-Up Comedy & Talk Shows, TV Comedies\",\"International TV Shows, TV Dramas, TV Mysteries\",\"International TV Shows, Spanish-Language TV Shows, TV Dramas\",\"Dramas, International Movies, Sports Movies\",\"Comedies, Independent Movies\",\"British TV Shows, Crime TV Shows, International TV Shows\",\"British TV Shows, Docuseries, Science & Nature TV\",\"Dramas, Independent Movies, Romantic Movies\",\"Anime Series, Kids' TV\",\"International TV Shows, Romantic TV Shows, Spanish-Language TV Shows\",\"Comedies, Independent Movies, International Movies\",\"Documentaries, LGBTQ Movies\",\"British TV Shows, Crime TV Shows, Docuseries\",\"International TV Shows, TV Action & Adventure, TV Dramas\",\"Crime TV Shows, International TV Shows, Korean TV Shows\",\"British TV Shows, Kids' TV\",\"Children & Family Movies, Music & Musicals\",\"Kids' TV, Korean TV Shows\",\"Comedies, Dramas, Romantic Movies\",\"Dramas, Sports Movies\",\"International Movies, Romantic Movies\",\"Crime TV Shows, International TV Shows, TV Action & Adventure\",\"International TV Shows, Korean TV Shows, TV Dramas\",\"Horror Movies, Independent Movies\",\"Dramas, Faith & Spirituality\",\"British TV Shows, International TV Shows, TV Comedies\",\"Dramas, Independent Movies, LGBTQ Movies\",\"International TV Shows, Spanish-Language TV Shows, TV Comedies\",\"Crime TV Shows, TV Dramas, TV Mysteries\",\"Children & Family Movies, Comedies, Dramas\",\"TV Shows\",\"Classic Movies, Dramas, International Movies\",\"Action & Adventure, International Movies, Sci-Fi & Fantasy\",\"Horror Movies, Independent Movies, Thrillers\",\"Crime TV Shows, TV Dramas\",\"Docuseries, Reality TV\",\"Children & Family Movies, Comedies, Music & Musicals\",\"Comedies, Horror Movies, International Movies\",\"International TV Shows, TV Dramas, TV Horror\",\"British TV Shows, International TV Shows, TV Dramas\",\"Docuseries, International TV Shows, Science & Nature TV\",\"Dramas, International Movies, Sci-Fi & Fantasy\",\"International TV Shows, TV Dramas, Teen TV Shows\",\"Action & Adventure, Dramas, Independent Movies\",\"Dramas, International Movies, LGBTQ Movies\",\"Comedies, Cult Movies\",\"International TV Shows, TV Dramas, TV Thrillers\",\"British TV Shows, Docuseries\",\"Sci-Fi & Fantasy, Thrillers\",\"Dramas, Faith & Spirituality, International Movies\",\"Comedies, Horror Movies\",\"Children & Family Movies, Dramas, International Movies\",\"Crime TV Shows, TV Action & Adventure, TV Dramas\",\"Children & Family Movies, Comedies, Sci-Fi & Fantasy\",\"Action & Adventure, Horror Movies, Sci-Fi & Fantasy\",\"Reality TV, Romantic TV Shows\",\"Independent Movies, Thrillers\",\"Anime Series, Crime TV Shows, International TV Shows\",\"British TV Shows, TV Comedies\",\"Classic Movies, Dramas\",\"Romantic TV Shows, TV Comedies, TV Dramas\",\"Classic Movies, Documentaries\",\"Action & Adventure, International Movies, Music & Musicals\",\"International Movies, Music & Musicals\",\"International TV Shows, Reality TV, Spanish-Language TV Shows\",\"Crime TV Shows, International TV Shows, TV Comedies\",\"Anime Series\",\"Kids' TV, TV Action & Adventure, TV Sci-Fi & Fantasy\",\"TV Action & Adventure, TV Dramas, TV Sci-Fi & Fantasy\",\"Horror Movies, Independent Movies, International Movies\",\"Music & Musicals\",\"International Movies, Sci-Fi & Fantasy, Thrillers\",\"Anime Series, International TV Shows, Teen TV Shows\",\"Classic Movies, Dramas, Independent Movies\",\"Anime Series, International TV Shows, Romantic TV Shows\",\"British TV Shows, Reality TV\",\"TV Action & Adventure, TV Sci-Fi & Fantasy\",\"Romantic TV Shows, TV Dramas\",\"Children & Family Movies, Dramas, Romantic Movies\",\"International TV Shows, TV Horror, TV Mysteries\",\"International TV Shows, Korean TV Shows, TV Comedies\",\"Children & Family Movies, Documentaries\",\"Action & Adventure, Classic Movies, Dramas\",\"International TV Shows, Reality TV, Romantic TV Shows\",\"TV Dramas, TV Horror, TV Mysteries\",\"Children & Family Movies, Dramas, Sports Movies\",\"Crime TV Shows, TV Comedies, TV Dramas\",\"Action & Adventure, Comedies, Sci-Fi & Fantasy\",\"Dramas, Independent Movies, Sports Movies\",\"Comedies, International Movies, LGBTQ Movies\",\"Docuseries, International TV Shows, Spanish-Language TV Shows\",\"Documentaries, Faith & Spirituality\",\"Comedies, Sports Movies\",\"International TV Shows, TV Dramas, TV Sci-Fi & Fantasy\",\"Children & Family Movies, Sci-Fi & Fantasy\",\"Children & Family Movies, Comedies, Romantic Movies\",\"Dramas, Independent Movies, Music & Musicals\",\"Comedies, Independent Movies, Romantic Movies\",\"Documentaries, International Movies, LGBTQ Movies\",\"Dramas, Music & Musicals\",\"Kids' TV, TV Action & Adventure, TV Comedies\",\"Crime TV Shows, International TV Shows, Romantic TV Shows\",\"Dramas, Independent Movies, Sci-Fi & Fantasy\",\"Comedies, Music & Musicals\",\"British TV Shows, Kids' TV, TV Comedies\",\"TV Comedies, TV Dramas, Teen TV Shows\",\"Dramas, LGBTQ Movies\",\"International TV Shows, Stand-Up Comedy & Talk Shows, TV Comedies\",\"Action & Adventure, Comedies, Independent Movies\",\"Anime Features, Children & Family Movies\",\"Action & Adventure, Independent Movies\",\"British TV Shows, International TV Shows, Romantic TV Shows\",\"Music & Musicals, Stand-Up Comedy\",\"Crime TV Shows, TV Dramas, TV Thrillers\",\"Action & Adventure, Children & Family Movies, Sci-Fi & Fantasy\",\"Action & Adventure, Documentaries, International Movies\",\"TV Comedies, Teen TV Shows\",\"Children & Family Movies, Documentaries, International Movies\",\"Action & Adventure, International Movies, Romantic Movies\",\"Comedies, Cult Movies, Dramas\",\"TV Dramas, Teen TV Shows\",\"Children & Family Movies, Dramas, Faith & Spirituality\",\"International TV Shows, Korean TV Shows, TV Action & Adventure\",\"Comedies, International Movies, Sports Movies\",\"International Movies, Music & Musicals, Romantic Movies\",\"International TV Shows, TV Action & Adventure, TV Comedies\",\"Horror Movies, Sci-Fi & Fantasy, Thrillers\",\"International TV Shows, Korean TV Shows, Reality TV\",\"Stand-Up Comedy & Talk Shows\",\"Dramas, Sci-Fi & Fantasy\",\"Comedies, International Movies, Sci-Fi & Fantasy\",\"Action & Adventure, Horror Movies\",\"Action & Adventure, Classic Movies, Cult Movies\",\"Classic & Cult TV, TV Comedies\",\"Docuseries, International TV Shows, Reality TV\",\"Children & Family Movies, Sports Movies\",\"International TV Shows, Spanish-Language TV Shows, TV Action & Adventure\",\"Dramas, Romantic Movies, Sci-Fi & Fantasy\",\"Docuseries, Reality TV, Science & Nature TV\",\"British TV Shows, International TV Shows, TV Action & Adventure\",\"TV Dramas, TV Mysteries, TV Sci-Fi & Fantasy\",\"International TV Shows, Stand-Up Comedy & Talk Shows\",\"Anime Series, International TV Shows, TV Thrillers\",\"TV Dramas, TV Thrillers\",\"Action & Adventure, Dramas, Sci-Fi & Fantasy\",\"Action & Adventure, Cult Movies, International Movies\",\"Comedies, Independent Movies, LGBTQ Movies\",\"Cult Movies, Horror Movies\",\"Action & Adventure, Classic Movies\",\"Dramas, Sci-Fi & Fantasy, Thrillers\",\"Comedies, International Movies, Thrillers\",\"Action & Adventure, Independent Movies, Sci-Fi & Fantasy\",\"Action & Adventure, Horror Movies, International Movies\",\"Comedies, Horror Movies, Independent Movies\",\"Children & Family Movies, Comedies, International Movies\",\"Independent Movies, International Movies, Thrillers\",\"Kids' TV, TV Thrillers\",\"Action & Adventure, Children & Family Movies, Comedies\",\"Dramas, Music & Musicals, Romantic Movies\",\"Kids' TV, TV Comedies, TV Dramas\",\"TV Horror, TV Mysteries, TV Sci-Fi & Fantasy\",\"Action & Adventure, Children & Family Movies, Classic Movies\",\"Action & Adventure, Comedies, Cult Movies\",\"Crime TV Shows, Docuseries, TV Mysteries\",\"Comedies, Horror Movies, Sci-Fi & Fantasy\",\"Action & Adventure, Comedies, Romantic Movies\",\"British TV Shows, Crime TV Shows, TV Dramas\",\"Comedies, Dramas, Music & Musicals\",\"Crime TV Shows, TV Action & Adventure, TV Comedies\",\"Action & Adventure, Anime Features, Children & Family Movies\",\"Classic Movies, Comedies, Dramas\",\"TV Action & Adventure, TV Dramas\",\"TV Horror, TV Mysteries, TV Thrillers\",\"Kids' TV, Spanish-Language TV Shows\",\"Action & Adventure, Thrillers\",\"Comedies, Dramas, LGBTQ Movies\",\"Horror Movies, Sci-Fi & Fantasy\",\"Action & Adventure, Anime Features, Sci-Fi & Fantasy\",\"Romantic TV Shows, TV Comedies\",\"International TV Shows, Romantic TV Shows, Teen TV Shows\",\"Classic & Cult TV, Crime TV Shows, International TV Shows\",\"Kids' TV, Korean TV Shows, TV Comedies\",\"International TV Shows, TV Action & Adventure, TV Sci-Fi & Fantasy\",\"International Movies, Sci-Fi & Fantasy\",\"Action & Adventure, Classic Movies, Comedies\",\"International TV Shows, Romantic TV Shows\",\"TV Action & Adventure, TV Dramas, TV Horror\",\"Anime Features, Children & Family Movies, International Movies\",\"Horror Movies, Independent Movies, Sci-Fi & Fantasy\",\"International TV Shows, Korean TV Shows, Stand-Up Comedy & Talk Shows\",\"Action & Adventure, Dramas, Sports Movies\",\"Independent Movies, Sci-Fi & Fantasy, Thrillers\",\"Reality TV, TV Comedies\",\"Romantic Movies\",\"International Movies\",\"International TV Shows, TV Comedies, TV Sci-Fi & Fantasy\",\"Kids' TV, TV Dramas\",\"Children & Family Movies, Classic Movies, Comedies\",\"Anime Series, Crime TV Shows\",\"International TV Shows, Romantic TV Shows, TV Action & Adventure\",\"TV Dramas, TV Sci-Fi & Fantasy\",\"International TV Shows, TV Horror, TV Thrillers\",\"British TV Shows, Classic & Cult TV, International TV Shows\",\"Docuseries, TV Comedies\",\"Docuseries, Spanish-Language TV Shows\",\"TV Action & Adventure, TV Comedies, TV Horror\",\"Classic Movies, Comedies, Cult Movies\",\"Dramas, Romantic Movies, Sports Movies\",\"Comedies, Cult Movies, International Movies\",\"Anime Series, International TV Shows, TV Horror\",\"Anime Series, Romantic TV Shows, Teen TV Shows\",\"Crime TV Shows, TV Action & Adventure\",\"Children & Family Movies, Comedies, Sports Movies\",\"International Movies, Music & Musicals, Thrillers\",\"Comedies, Cult Movies, Horror Movies\",\"Children & Family Movies, Dramas, Independent Movies\",\"Action & Adventure, Children & Family Movies, Dramas\",\"Docuseries, Stand-Up Comedy & Talk Shows\",\"Documentaries, Faith & Spirituality, International Movies\",\"Comedies, Faith & Spirituality, International Movies\",\"Action & Adventure, Romantic Movies\",\"International Movies, LGBTQ Movies, Romantic Movies\",\"Action & Adventure, Independent Movies, International Movies\",\"Comedies, Sci-Fi & Fantasy\",\"Reality TV, Teen TV Shows\",\"Classic Movies, Dramas, Romantic Movies\",\"Anime Series, Teen TV Shows\",\"Action & Adventure, Cult Movies, Sci-Fi & Fantasy\",\"Classic Movies, Comedies, International Movies\",\"Classic Movies, Cult Movies, Dramas\",\"Action & Adventure, Dramas, Faith & Spirituality\",\"International TV Shows\",\"Children & Family Movies, Independent Movies\",\"TV Comedies, TV Sci-Fi & Fantasy\",\"Documentaries, LGBTQ Movies, Sports Movies\",\"British TV Shows, Reality TV, Romantic TV Shows\",\"Kids' TV, TV Dramas, Teen TV Shows\",\"Classic Movies, Dramas, Music & Musicals\",\"Anime Series, Romantic TV Shows\",\"Anime Features, Music & Musicals, Sci-Fi & Fantasy\",\"Kids' TV, TV Comedies, TV Sci-Fi & Fantasy\",\"Kids' TV, TV Sci-Fi & Fantasy\",\"Children & Family Movies, Documentaries, Sports Movies\",\"Classic Movies, Comedies, Independent Movies\",\"Crime TV Shows, Spanish-Language TV Shows, TV Action & Adventure\",\"Horror Movies, LGBTQ Movies\",\"Anime Features, International Movies, Romantic Movies\",\"Horror Movies, International Movies, Romantic Movies\",\"Comedies, Cult Movies, Music & Musicals\",\"Docuseries, Science & Nature TV, TV Action & Adventure\",\"TV Action & Adventure, TV Comedies, TV Sci-Fi & Fantasy\",\"Dramas, Faith & Spirituality, Romantic Movies\",\"Classic & Cult TV, TV Action & Adventure, TV Horror\",\"Anime Features, International Movies\",\"Anime Series, TV Horror, TV Thrillers\",\"Action & Adventure, Dramas, Romantic Movies\",\"Comedies, Dramas, Faith & Spirituality\",\"Reality TV, TV Comedies, TV Horror\",\"Crime TV Shows, Docuseries, Science & Nature TV\",\"British TV Shows, Romantic TV Shows, TV Dramas\",\"TV Horror, Teen TV Shows\",\"Romantic TV Shows, TV Dramas, Teen TV Shows\",\"Crime TV Shows, Romantic TV Shows, TV Dramas\",\"Romantic TV Shows, TV Dramas, TV Sci-Fi & Fantasy\",\"Comedies, Documentaries\",\"International TV Shows, Reality TV, TV Comedies\",\"Action & Adventure, International Movies, Sports Movies\",\"Classic Movies, Cult Movies, Horror Movies\",\"Children & Family Movies, Dramas, Music & Musicals\",\"International TV Shows, TV Mysteries, TV Thrillers\",\"Action & Adventure, Horror Movies, Thrillers\",\"Action & Adventure, Sports Movies\",\"Documentaries, Stand-Up Comedy\",\"International Movies, Romantic Movies, Thrillers\",\"Action & Adventure, International Movies, Thrillers\",\"TV Action & Adventure, TV Mysteries, TV Sci-Fi & Fantasy\",\"Documentaries, Horror Movies\",\"Dramas, LGBTQ Movies, Romantic Movies\",\"Reality TV, Science & Nature TV\",\"Dramas, Romantic Movies, Thrillers\",\"TV Action & Adventure, TV Dramas, TV Mysteries\",\"Cult Movies, Horror Movies, Independent Movies\",\"British TV Shows, Kids' TV, TV Dramas\",\"Comedies, Independent Movies, Thrillers\",\"TV Dramas, TV Mysteries, TV Thrillers\",\"Documentaries, LGBTQ Movies, Music & Musicals\",\"Action & Adventure, Children & Family Movies\",\"Crime TV Shows, Spanish-Language TV Shows, TV Dramas\",\"Comedies, Faith & Spirituality, Romantic Movies\",\"Docuseries, TV Dramas\",\"Action & Adventure, Anime Features, Classic Movies\",\"Classic Movies, Dramas, Sports Movies\",\"Documentaries, Dramas, International Movies\",\"Kids' TV, TV Action & Adventure\",\"Crime TV Shows, TV Action & Adventure, TV Thrillers\",\"Comedies, Music & Musicals, Romantic Movies\",\"Crime TV Shows, Kids' TV, TV Comedies\",\"International TV Shows, TV Action & Adventure, TV Mysteries\",\"Comedies, LGBTQ Movies\",\"Classic & Cult TV, TV Action & Adventure, TV Sci-Fi & Fantasy\",\"Classic Movies, Comedies, Music & Musicals\",\"British TV Shows, Classic & Cult TV, TV Comedies\",\"Spanish-Language TV Shows, TV Dramas\",\"International TV Shows, Spanish-Language TV Shows, Stand-Up Comedy & Talk Shows\",\"Classic & Cult TV, TV Action & Adventure, TV Dramas\",\"Classic & Cult TV, TV Horror, TV Mysteries\",\"Classic & Cult TV, Kids' TV, TV Action & Adventure\",\"Comedies, Cult Movies, Sci-Fi & Fantasy\",\"Dramas, Horror Movies, Music & Musicals\",\"Reality TV, Spanish-Language TV Shows\",\"Anime Series, Stand-Up Comedy & Talk Shows\",\"Docuseries, Kids' TV, Science & Nature TV\",\"TV Dramas, TV Sci-Fi & Fantasy, Teen TV Shows\",\"British TV Shows, Classic & Cult TV, Kids' TV\",\"International TV Shows, Kids' TV, TV Mysteries\",\"Anime Series, International TV Shows, Spanish-Language TV Shows\",\"Comedies, Documentaries, International Movies\",\"Romantic TV Shows, Spanish-Language TV Shows, TV Dramas\",\"TV Comedies, TV Dramas, TV Sci-Fi & Fantasy\",\"International Movies, Sports Movies\",\"International Movies, Romantic Movies, Sci-Fi & Fantasy\",\"Action & Adventure, Anime Features\",\"British TV Shows, Docuseries, Reality TV\",\"TV Dramas, TV Sci-Fi & Fantasy, TV Thrillers\",\"TV Comedies, TV Dramas, TV Mysteries\",\"TV Comedies, TV Dramas, TV Horror\",\"Children & Family Movies, Comedies, Cult Movies\",\"Action & Adventure, Children & Family Movies, Independent Movies\",\"Crime TV Shows, TV Horror, TV Mysteries\",\"Dramas, Horror Movies, Sci-Fi & Fantasy\",\"Action & Adventure, Faith & Spirituality, Sci-Fi & Fantasy\",\"Classic & Cult TV, TV Dramas, TV Sci-Fi & Fantasy\",\"International TV Shows, Spanish-Language TV Shows, TV Horror\",\"Reality TV, TV Action & Adventure, TV Mysteries\",\"Docuseries, Reality TV, Teen TV Shows\",\"Docuseries, TV Sci-Fi & Fantasy\",\"Crime TV Shows, TV Dramas, TV Horror\",\"Anime Features\",\"Action & Adventure, Sci-Fi & Fantasy, Thrillers\",\"Crime TV Shows, TV Comedies\",\"British TV Shows, TV Horror, TV Thrillers\",\"Crime TV Shows, Kids' TV\",\"Reality TV, Science & Nature TV, TV Action & Adventure\",\"Anime Features, International Movies, Sci-Fi & Fantasy\",\"Action & Adventure, Documentaries, Sports Movies\",\"Docuseries, Science & Nature TV, TV Comedies\",\"Action & Adventure, Comedies, Sports Movies\",\"Children & Family Movies, Comedies, LGBTQ Movies\",\"Cult Movies, Dramas, International Movies\",\"Comedies, LGBTQ Movies, Thrillers\",\"Classic & Cult TV, Crime TV Shows, TV Dramas\",\"Horror Movies, LGBTQ Movies, Music & Musicals\",\"International TV Shows, Korean TV Shows, TV Horror\",\"Classic Movies, Horror Movies, Thrillers\",\"International TV Shows, TV Action & Adventure, TV Horror\",\"Children & Family Movies, Faith & Spirituality, Music & Musicals\",\"Dramas, Faith & Spirituality, Independent Movies\",\"Crime TV Shows, International TV Shows, TV Thrillers\",\"British TV Shows, TV Dramas, TV Sci-Fi & Fantasy\",\"Classic Movies, Cult Movies, Documentaries\",\"International TV Shows, TV Horror, TV Sci-Fi & Fantasy\",\"Comedies, Cult Movies, Sports Movies\",\"Children & Family Movies, Classic Movies\",\"TV Action & Adventure, TV Comedies, TV Dramas\",\"Cult Movies, Dramas, Music & Musicals\",\"LGBTQ Movies, Thrillers\",\"Anime Series, Kids' TV, TV Action & Adventure\",\"Children & Family Movies, Faith & Spirituality\",\"Crime TV Shows, TV Action & Adventure, TV Sci-Fi & Fantasy\",\"Comedies, Dramas, Sports Movies\",\"TV Horror, TV Mysteries, Teen TV Shows\",\"Classic Movies, Thrillers\",\"Action & Adventure, Anime Features, Horror Movies\",\"Documentaries, Faith & Spirituality, Music & Musicals\",\"Comedies, Cult Movies, Independent Movies\",\"Docuseries, Science & Nature TV, TV Dramas\",\"Action & Adventure, Classic Movies, Sci-Fi & Fantasy\",\"Dramas, Faith & Spirituality, Sports Movies\",\"Cult Movies, Independent Movies, Thrillers\",\"Documentaries, Dramas\",\"Crime TV Shows, International TV Shows, TV Sci-Fi & Fantasy\",\"Comedies, LGBTQ Movies, Music & Musicals\",\"Action & Adventure, Classic Movies, International Movies\",\"Action & Adventure, Comedies, Horror Movies\",\"Action & Adventure, Cult Movies\",\"Comedies, Music & Musicals, Sports Movies\",\"Romantic TV Shows, Teen TV Shows\",\"Independent Movies\",\"Kids' TV, TV Action & Adventure, TV Dramas\",\"TV Sci-Fi & Fantasy, TV Thrillers\",\"Crime TV Shows, International TV Shows, Reality TV\",\"Sci-Fi & Fantasy\",\"International TV Shows, Romantic TV Shows, TV Mysteries\",\"Cult Movies, Horror Movies, Thrillers\",\"Anime Features, Romantic Movies\",\"Children & Family Movies, Comedies, Faith & Spirituality\",\"Comedies, Cult Movies, LGBTQ Movies\",\"Classic & Cult TV, TV Sci-Fi & Fantasy\",\"Cult Movies, Dramas, Thrillers\",\"Romantic TV Shows, Spanish-Language TV Shows, TV Comedies\",\"TV Comedies, TV Mysteries\",\"Crime TV Shows, TV Comedies, Teen TV Shows\",\"Kids' TV, Reality TV, TV Dramas\",\"Action & Adventure, Children & Family Movies, Cult Movies\",\"TV Comedies, TV Horror, TV Thrillers\",\"Children & Family Movies, Classic Movies, Dramas\",\"Anime Series, Crime TV Shows, TV Horror\",\"Classic Movies, Comedies, Romantic Movies\",\"British TV Shows, International TV Shows, Stand-Up Comedy & Talk Shows\",\"Classic Movies, Comedies, Sports Movies\",\"Classic Movies, Independent Movies, Thrillers\",\"British TV Shows, Kids' TV, TV Thrillers\",\"Stand-Up Comedy & Talk Shows, TV Mysteries, TV Sci-Fi & Fantasy\",\"British TV Shows, Docuseries, TV Comedies\",\"Horror Movies, Romantic Movies, Sci-Fi & Fantasy\",\"Dramas, Horror Movies, Thrillers\",\"TV Comedies, TV Sci-Fi & Fantasy, Teen TV Shows\",\"International TV Shows, Reality TV, TV Action & Adventure\",\"Classic & Cult TV, Kids' TV, Spanish-Language TV Shows\",\"Action & Adventure, Romantic Movies, Sci-Fi & Fantasy\",\"Reality TV, TV Horror, TV Thrillers\",\"Action & Adventure, Sci-Fi & Fantasy, Sports Movies\",\"Kids' TV, Spanish-Language TV Shows, Teen TV Shows\",\"Anime Features, Documentaries\",\"Romantic TV Shows, TV Action & Adventure, TV Dramas\",\"TV Action & Adventure, TV Dramas, Teen TV Shows\",\"Action & Adventure, Horror Movies, Independent Movies\",\"Crime TV Shows, Romantic TV Shows, Spanish-Language TV Shows\",\"Comedies, Romantic Movies, Sports Movies\",\"Crime TV Shows, International TV Shows, TV Mysteries\",\"Classic Movies, Music & Musicals\",\"Comedies, Independent Movies, Music & Musicals\",\"Sports Movies\",\"Anime Series, Crime TV Shows, TV Thrillers\",\"TV Action & Adventure\",\"Anime Features, Music & Musicals\",\"Action & Adventure, Comedies, Music & Musicals\",\"TV Action & Adventure, TV Horror, TV Sci-Fi & Fantasy\",\"British TV Shows, TV Comedies, TV Dramas\",\"Kids' TV, Reality TV, Science & Nature TV\",\"Horror Movies, International Movies, Sci-Fi & Fantasy\",\"Action & Adventure, Cult Movies, Dramas\",\"Music & Musicals, Romantic Movies\",\"Classic & Cult TV, Kids' TV, TV Comedies\",\"Kids' TV, TV Comedies, Teen TV Shows\",\"TV Action & Adventure, TV Comedies\",\"Classic Movies, Dramas, LGBTQ Movies\"],\"legendgroup\":\"\",\"name\":\"\",\"showlegend\":true,\"values\":[362,359,334,274,252,220,215,201,186,180,176,152,138,134,132,128,121,116,110,110,101,100,99,95,94,90,88,85,82,82,80,70,69,67,65,65,65,62,62,57,57,57,55,55,54,52,51,50,45,44,41,40,38,38,38,35,35,34,33,31,30,30,29,29,28,27,27,27,26,26,25,25,25,25,24,23,23,22,22,21,21,20,20,20,19,19,19,18,18,18,18,18,17,17,17,17,16,16,16,16,16,16,16,15,15,15,14,13,13,13,12,12,12,12,12,12,12,12,11,11,11,11,11,11,11,11,11,11,11,11,11,10,10,10,10,10,10,10,9,9,9,9,9,9,9,9,9,9,9,9,9,9,9,9,8,8,8,8,8,8,8,8,8,8,8,7,7,7,7,7,7,7,7,7,7,7,7,7,7,7,7,6,6,6,6,6,6,6,6,6,6,6,6,6,6,6,6,6,6,5,5,5,5,5,5,5,5,5,5,5,5,5,5,5,5,5,5,5,5,5,5,5,5,5,5,5,4,4,4,4,4,4,4,4,4,4,4,4,4,4,4,4,4,4,4,4,4,4,4,4,4,4,3,3,3,3,3,3,3,3,3,3,3,3,3,3,3,3,3,3,3,3,3,3,3,3,3,3,3,3,3,3,3,3,3,3,3,3,3,3,3,3,3,3,3,3,2,2,2,2,2,2,2,2,2,2,2,2,2,2,2,2,2,2,2,2,2,2,2,2,2,2,2,2,2,2,2,2,2,2,2,2,2,2,2,2,2,2,2,2,2,2,2,2,2,2,2,2,2,2,2,2,2,2,2,2,2,2,2,2,2,2,2,2,2,2,2,2,2,2,2,2,1,1,1,1,1,1,1,1,1,1,1,1,1,1,1,1,1,1,1,1,1,1,1,1,1,1,1,1,1,1,1,1,1,1,1,1,1,1,1,1,1,1,1,1,1,1,1,1,1,1,1,1,1,1,1,1,1,1,1,1,1,1,1,1,1,1,1,1,1,1,1,1,1,1,1,1,1,1,1,1,1,1,1,1,1,1,1,1,1,1,1,1,1,1,1,1,1,1,1,1,1,1,1,1,1,1,1,1,1,1,1,1,1,1,1,1,1,1,1,1,1,1,1,1,1,1,1,1,1,1,1,1,1,1,1,1,1,1,1,1,1,1],\"type\":\"pie\",\"textinfo\":\"percent+label\",\"textposition\":\"inside\"}],                        {\"template\":{\"data\":{\"bar\":[{\"error_x\":{\"color\":\"#2a3f5f\"},\"error_y\":{\"color\":\"#2a3f5f\"},\"marker\":{\"line\":{\"color\":\"#E5ECF6\",\"width\":0.5},\"pattern\":{\"fillmode\":\"overlay\",\"size\":10,\"solidity\":0.2}},\"type\":\"bar\"}],\"barpolar\":[{\"marker\":{\"line\":{\"color\":\"#E5ECF6\",\"width\":0.5},\"pattern\":{\"fillmode\":\"overlay\",\"size\":10,\"solidity\":0.2}},\"type\":\"barpolar\"}],\"carpet\":[{\"aaxis\":{\"endlinecolor\":\"#2a3f5f\",\"gridcolor\":\"white\",\"linecolor\":\"white\",\"minorgridcolor\":\"white\",\"startlinecolor\":\"#2a3f5f\"},\"baxis\":{\"endlinecolor\":\"#2a3f5f\",\"gridcolor\":\"white\",\"linecolor\":\"white\",\"minorgridcolor\":\"white\",\"startlinecolor\":\"#2a3f5f\"},\"type\":\"carpet\"}],\"choropleth\":[{\"colorbar\":{\"outlinewidth\":0,\"ticks\":\"\"},\"type\":\"choropleth\"}],\"contour\":[{\"colorbar\":{\"outlinewidth\":0,\"ticks\":\"\"},\"colorscale\":[[0.0,\"#0d0887\"],[0.1111111111111111,\"#46039f\"],[0.2222222222222222,\"#7201a8\"],[0.3333333333333333,\"#9c179e\"],[0.4444444444444444,\"#bd3786\"],[0.5555555555555556,\"#d8576b\"],[0.6666666666666666,\"#ed7953\"],[0.7777777777777778,\"#fb9f3a\"],[0.8888888888888888,\"#fdca26\"],[1.0,\"#f0f921\"]],\"type\":\"contour\"}],\"contourcarpet\":[{\"colorbar\":{\"outlinewidth\":0,\"ticks\":\"\"},\"type\":\"contourcarpet\"}],\"heatmap\":[{\"colorbar\":{\"outlinewidth\":0,\"ticks\":\"\"},\"colorscale\":[[0.0,\"#0d0887\"],[0.1111111111111111,\"#46039f\"],[0.2222222222222222,\"#7201a8\"],[0.3333333333333333,\"#9c179e\"],[0.4444444444444444,\"#bd3786\"],[0.5555555555555556,\"#d8576b\"],[0.6666666666666666,\"#ed7953\"],[0.7777777777777778,\"#fb9f3a\"],[0.8888888888888888,\"#fdca26\"],[1.0,\"#f0f921\"]],\"type\":\"heatmap\"}],\"heatmapgl\":[{\"colorbar\":{\"outlinewidth\":0,\"ticks\":\"\"},\"colorscale\":[[0.0,\"#0d0887\"],[0.1111111111111111,\"#46039f\"],[0.2222222222222222,\"#7201a8\"],[0.3333333333333333,\"#9c179e\"],[0.4444444444444444,\"#bd3786\"],[0.5555555555555556,\"#d8576b\"],[0.6666666666666666,\"#ed7953\"],[0.7777777777777778,\"#fb9f3a\"],[0.8888888888888888,\"#fdca26\"],[1.0,\"#f0f921\"]],\"type\":\"heatmapgl\"}],\"histogram\":[{\"marker\":{\"pattern\":{\"fillmode\":\"overlay\",\"size\":10,\"solidity\":0.2}},\"type\":\"histogram\"}],\"histogram2d\":[{\"colorbar\":{\"outlinewidth\":0,\"ticks\":\"\"},\"colorscale\":[[0.0,\"#0d0887\"],[0.1111111111111111,\"#46039f\"],[0.2222222222222222,\"#7201a8\"],[0.3333333333333333,\"#9c179e\"],[0.4444444444444444,\"#bd3786\"],[0.5555555555555556,\"#d8576b\"],[0.6666666666666666,\"#ed7953\"],[0.7777777777777778,\"#fb9f3a\"],[0.8888888888888888,\"#fdca26\"],[1.0,\"#f0f921\"]],\"type\":\"histogram2d\"}],\"histogram2dcontour\":[{\"colorbar\":{\"outlinewidth\":0,\"ticks\":\"\"},\"colorscale\":[[0.0,\"#0d0887\"],[0.1111111111111111,\"#46039f\"],[0.2222222222222222,\"#7201a8\"],[0.3333333333333333,\"#9c179e\"],[0.4444444444444444,\"#bd3786\"],[0.5555555555555556,\"#d8576b\"],[0.6666666666666666,\"#ed7953\"],[0.7777777777777778,\"#fb9f3a\"],[0.8888888888888888,\"#fdca26\"],[1.0,\"#f0f921\"]],\"type\":\"histogram2dcontour\"}],\"mesh3d\":[{\"colorbar\":{\"outlinewidth\":0,\"ticks\":\"\"},\"type\":\"mesh3d\"}],\"parcoords\":[{\"line\":{\"colorbar\":{\"outlinewidth\":0,\"ticks\":\"\"}},\"type\":\"parcoords\"}],\"pie\":[{\"automargin\":true,\"type\":\"pie\"}],\"scatter\":[{\"marker\":{\"colorbar\":{\"outlinewidth\":0,\"ticks\":\"\"}},\"type\":\"scatter\"}],\"scatter3d\":[{\"line\":{\"colorbar\":{\"outlinewidth\":0,\"ticks\":\"\"}},\"marker\":{\"colorbar\":{\"outlinewidth\":0,\"ticks\":\"\"}},\"type\":\"scatter3d\"}],\"scattercarpet\":[{\"marker\":{\"colorbar\":{\"outlinewidth\":0,\"ticks\":\"\"}},\"type\":\"scattercarpet\"}],\"scattergeo\":[{\"marker\":{\"colorbar\":{\"outlinewidth\":0,\"ticks\":\"\"}},\"type\":\"scattergeo\"}],\"scattergl\":[{\"marker\":{\"colorbar\":{\"outlinewidth\":0,\"ticks\":\"\"}},\"type\":\"scattergl\"}],\"scattermapbox\":[{\"marker\":{\"colorbar\":{\"outlinewidth\":0,\"ticks\":\"\"}},\"type\":\"scattermapbox\"}],\"scatterpolar\":[{\"marker\":{\"colorbar\":{\"outlinewidth\":0,\"ticks\":\"\"}},\"type\":\"scatterpolar\"}],\"scatterpolargl\":[{\"marker\":{\"colorbar\":{\"outlinewidth\":0,\"ticks\":\"\"}},\"type\":\"scatterpolargl\"}],\"scatterternary\":[{\"marker\":{\"colorbar\":{\"outlinewidth\":0,\"ticks\":\"\"}},\"type\":\"scatterternary\"}],\"surface\":[{\"colorbar\":{\"outlinewidth\":0,\"ticks\":\"\"},\"colorscale\":[[0.0,\"#0d0887\"],[0.1111111111111111,\"#46039f\"],[0.2222222222222222,\"#7201a8\"],[0.3333333333333333,\"#9c179e\"],[0.4444444444444444,\"#bd3786\"],[0.5555555555555556,\"#d8576b\"],[0.6666666666666666,\"#ed7953\"],[0.7777777777777778,\"#fb9f3a\"],[0.8888888888888888,\"#fdca26\"],[1.0,\"#f0f921\"]],\"type\":\"surface\"}],\"table\":[{\"cells\":{\"fill\":{\"color\":\"#EBF0F8\"},\"line\":{\"color\":\"white\"}},\"header\":{\"fill\":{\"color\":\"#C8D4E3\"},\"line\":{\"color\":\"white\"}},\"type\":\"table\"}]},\"layout\":{\"annotationdefaults\":{\"arrowcolor\":\"#2a3f5f\",\"arrowhead\":0,\"arrowwidth\":1},\"autotypenumbers\":\"strict\",\"coloraxis\":{\"colorbar\":{\"outlinewidth\":0,\"ticks\":\"\"}},\"colorscale\":{\"diverging\":[[0,\"#8e0152\"],[0.1,\"#c51b7d\"],[0.2,\"#de77ae\"],[0.3,\"#f1b6da\"],[0.4,\"#fde0ef\"],[0.5,\"#f7f7f7\"],[0.6,\"#e6f5d0\"],[0.7,\"#b8e186\"],[0.8,\"#7fbc41\"],[0.9,\"#4d9221\"],[1,\"#276419\"]],\"sequential\":[[0.0,\"#0d0887\"],[0.1111111111111111,\"#46039f\"],[0.2222222222222222,\"#7201a8\"],[0.3333333333333333,\"#9c179e\"],[0.4444444444444444,\"#bd3786\"],[0.5555555555555556,\"#d8576b\"],[0.6666666666666666,\"#ed7953\"],[0.7777777777777778,\"#fb9f3a\"],[0.8888888888888888,\"#fdca26\"],[1.0,\"#f0f921\"]],\"sequentialminus\":[[0.0,\"#0d0887\"],[0.1111111111111111,\"#46039f\"],[0.2222222222222222,\"#7201a8\"],[0.3333333333333333,\"#9c179e\"],[0.4444444444444444,\"#bd3786\"],[0.5555555555555556,\"#d8576b\"],[0.6666666666666666,\"#ed7953\"],[0.7777777777777778,\"#fb9f3a\"],[0.8888888888888888,\"#fdca26\"],[1.0,\"#f0f921\"]]},\"colorway\":[\"#636efa\",\"#EF553B\",\"#00cc96\",\"#ab63fa\",\"#FFA15A\",\"#19d3f3\",\"#FF6692\",\"#B6E880\",\"#FF97FF\",\"#FECB52\"],\"font\":{\"color\":\"#2a3f5f\"},\"geo\":{\"bgcolor\":\"white\",\"lakecolor\":\"white\",\"landcolor\":\"#E5ECF6\",\"showlakes\":true,\"showland\":true,\"subunitcolor\":\"white\"},\"hoverlabel\":{\"align\":\"left\"},\"hovermode\":\"closest\",\"mapbox\":{\"style\":\"light\"},\"paper_bgcolor\":\"white\",\"plot_bgcolor\":\"#E5ECF6\",\"polar\":{\"angularaxis\":{\"gridcolor\":\"white\",\"linecolor\":\"white\",\"ticks\":\"\"},\"bgcolor\":\"#E5ECF6\",\"radialaxis\":{\"gridcolor\":\"white\",\"linecolor\":\"white\",\"ticks\":\"\"}},\"scene\":{\"xaxis\":{\"backgroundcolor\":\"#E5ECF6\",\"gridcolor\":\"white\",\"gridwidth\":2,\"linecolor\":\"white\",\"showbackground\":true,\"ticks\":\"\",\"zerolinecolor\":\"white\"},\"yaxis\":{\"backgroundcolor\":\"#E5ECF6\",\"gridcolor\":\"white\",\"gridwidth\":2,\"linecolor\":\"white\",\"showbackground\":true,\"ticks\":\"\",\"zerolinecolor\":\"white\"},\"zaxis\":{\"backgroundcolor\":\"#E5ECF6\",\"gridcolor\":\"white\",\"gridwidth\":2,\"linecolor\":\"white\",\"showbackground\":true,\"ticks\":\"\",\"zerolinecolor\":\"white\"}},\"shapedefaults\":{\"line\":{\"color\":\"#2a3f5f\"}},\"ternary\":{\"aaxis\":{\"gridcolor\":\"white\",\"linecolor\":\"white\",\"ticks\":\"\"},\"baxis\":{\"gridcolor\":\"white\",\"linecolor\":\"white\",\"ticks\":\"\"},\"bgcolor\":\"#E5ECF6\",\"caxis\":{\"gridcolor\":\"white\",\"linecolor\":\"white\",\"ticks\":\"\"}},\"title\":{\"x\":0.05},\"xaxis\":{\"automargin\":true,\"gridcolor\":\"white\",\"linecolor\":\"white\",\"ticks\":\"\",\"title\":{\"standoff\":15},\"zerolinecolor\":\"white\",\"zerolinewidth\":2},\"yaxis\":{\"automargin\":true,\"gridcolor\":\"white\",\"linecolor\":\"white\",\"ticks\":\"\",\"title\":{\"standoff\":15},\"zerolinecolor\":\"white\",\"zerolinewidth\":2}}},\"legend\":{\"tracegroupgap\":0},\"margin\":{\"t\":60}},                        {\"responsive\": true}                    ).then(function(){\n",
       "                            \n",
       "var gd = document.getElementById('bcc0fe97-cc1a-4d7e-848a-ee434cc07302');\n",
       "var x = new MutationObserver(function (mutations, observer) {{\n",
       "        var display = window.getComputedStyle(gd).display;\n",
       "        if (!display || display === 'none') {{\n",
       "            console.log([gd, 'removed!']);\n",
       "            Plotly.purge(gd);\n",
       "            observer.disconnect();\n",
       "        }}\n",
       "}});\n",
       "\n",
       "// Listen for the removal of the full notebook cells\n",
       "var notebookContainer = gd.closest('#notebook-container');\n",
       "if (notebookContainer) {{\n",
       "    x.observe(notebookContainer, {childList: true});\n",
       "}}\n",
       "\n",
       "// Listen for the clearing of the current output cell\n",
       "var outputEl = gd.closest('.output');\n",
       "if (outputEl) {{\n",
       "    x.observe(outputEl, {childList: true});\n",
       "}}\n",
       "\n",
       "                        })                };                });            </script>        </div>"
      ]
     },
     "metadata": {},
     "output_type": "display_data"
    }
   ],
   "source": [
    "import plotly.express as px #more sophisticated data visualization for elaborate plots\n",
    "fig = px.pie(netflix,values = top_listed_in,names = top_listed_in.index,labels= top_listed_in.index)\n",
    "fig.update_traces(textposition ='inside',textinfo='percent+label')\n",
    "fig.show()"
   ]
  },
  {
   "cell_type": "code",
   "execution_count": 37,
   "id": "ac26111f",
   "metadata": {},
   "outputs": [
    {
     "data": {
      "image/png": "[encoded data removed]",
      "text/plain": [
       "<Figure size 2160x1080 with 1 Axes>"
      ]
     },
     "metadata": {},
     "output_type": "display_data"
    }
   ],
   "source": [
    "sns.set() #plot of listed_in and rating vs count\n",
    "plt.figure(figsize=(30,15))\n",
    "sns.countplot(x='listed_in',hue='rating',data = netflix,order =netflix[\"listed_in\"].value_counts().index[0:10])\n",
    "plt.xticks(rotation = 30)\n",
    "plt.show()"
   ]
  },
  {
   "cell_type": "code",
   "execution_count": 38,
   "id": "149c7680",
   "metadata": {},
   "outputs": [
    {
     "data": {
      "text/html": [
       "<div>\n",
       "<style scoped>\n",
       "    .dataframe tbody tr th:only-of-type {\n",
       "        vertical-align: middle;\n",
       "    }\n",
       "\n",
       "    .dataframe tbody tr th {\n",
       "        vertical-align: top;\n",
       "    }\n",
       "\n",
       "    .dataframe thead th {\n",
       "        text-align: right;\n",
       "    }\n",
       "</style>\n",
       "<table border=\"1\" class=\"dataframe\">\n",
       "  <thead>\n",
       "    <tr style=\"text-align: right;\">\n",
       "      <th></th>\n",
       "      <th>title</th>\n",
       "      <th>type</th>\n",
       "      <th>country</th>\n",
       "      <th>release_year</th>\n",
       "    </tr>\n",
       "  </thead>\n",
       "  <tbody>\n",
       "    <tr>\n",
       "      <th>4250</th>\n",
       "      <td>Pioneers: First Women Filmmakers*</td>\n",
       "      <td>TV Show</td>\n",
       "      <td>United States</td>\n",
       "      <td>1925</td>\n",
       "    </tr>\n",
       "    <tr>\n",
       "      <th>7790</th>\n",
       "      <td>Prelude to War</td>\n",
       "      <td>Movie</td>\n",
       "      <td>United States</td>\n",
       "      <td>1942</td>\n",
       "    </tr>\n",
       "    <tr>\n",
       "      <th>8205</th>\n",
       "      <td>The Battle of Midway</td>\n",
       "      <td>Movie</td>\n",
       "      <td>United States</td>\n",
       "      <td>1942</td>\n",
       "    </tr>\n",
       "    <tr>\n",
       "      <th>8660</th>\n",
       "      <td>Undercover: How to Operate Behind Enemy Lines</td>\n",
       "      <td>Movie</td>\n",
       "      <td>United States</td>\n",
       "      <td>1943</td>\n",
       "    </tr>\n",
       "    <tr>\n",
       "      <th>8739</th>\n",
       "      <td>Why We Fight: The Battle of Russia</td>\n",
       "      <td>Movie</td>\n",
       "      <td>United States</td>\n",
       "      <td>1943</td>\n",
       "    </tr>\n",
       "    <tr>\n",
       "      <th>8763</th>\n",
       "      <td>WWII: Report from the Aleutians</td>\n",
       "      <td>Movie</td>\n",
       "      <td>United States</td>\n",
       "      <td>1943</td>\n",
       "    </tr>\n",
       "    <tr>\n",
       "      <th>8640</th>\n",
       "      <td>Tunisian Victory</td>\n",
       "      <td>Movie</td>\n",
       "      <td>United States, United Kingdom</td>\n",
       "      <td>1944</td>\n",
       "    </tr>\n",
       "    <tr>\n",
       "      <th>8436</th>\n",
       "      <td>The Negro Soldier</td>\n",
       "      <td>Movie</td>\n",
       "      <td>United States</td>\n",
       "      <td>1944</td>\n",
       "    </tr>\n",
       "    <tr>\n",
       "      <th>8419</th>\n",
       "      <td>The Memphis Belle: A Story of a\\nFlying Fortress</td>\n",
       "      <td>Movie</td>\n",
       "      <td>United States</td>\n",
       "      <td>1944</td>\n",
       "    </tr>\n",
       "    <tr>\n",
       "      <th>7930</th>\n",
       "      <td>San Pietro</td>\n",
       "      <td>Movie</td>\n",
       "      <td>United States</td>\n",
       "      <td>1945</td>\n",
       "    </tr>\n",
       "    <tr>\n",
       "      <th>1331</th>\n",
       "      <td>Five Came Back: The Reference Films</td>\n",
       "      <td>TV Show</td>\n",
       "      <td>United States</td>\n",
       "      <td>1945</td>\n",
       "    </tr>\n",
       "    <tr>\n",
       "      <th>7219</th>\n",
       "      <td>Know Your Enemy - Japan</td>\n",
       "      <td>Movie</td>\n",
       "      <td>United States</td>\n",
       "      <td>1945</td>\n",
       "    </tr>\n",
       "    <tr>\n",
       "      <th>7575</th>\n",
       "      <td>Nazi Concentration Camps</td>\n",
       "      <td>Movie</td>\n",
       "      <td>United States</td>\n",
       "      <td>1945</td>\n",
       "    </tr>\n",
       "    <tr>\n",
       "      <th>7743</th>\n",
       "      <td>Pioneers of African-American Cinema</td>\n",
       "      <td>TV Show</td>\n",
       "      <td>United States</td>\n",
       "      <td>1946</td>\n",
       "    </tr>\n",
       "    <tr>\n",
       "      <th>7294</th>\n",
       "      <td>Let There Be Light</td>\n",
       "      <td>Movie</td>\n",
       "      <td>United States</td>\n",
       "      <td>1946</td>\n",
       "    </tr>\n",
       "    <tr>\n",
       "      <th>8587</th>\n",
       "      <td>Thunderbolt</td>\n",
       "      <td>Movie</td>\n",
       "      <td>United States</td>\n",
       "      <td>1947</td>\n",
       "    </tr>\n",
       "    <tr>\n",
       "      <th>2375</th>\n",
       "      <td>The Blazing Sun</td>\n",
       "      <td>Movie</td>\n",
       "      <td>Egypt</td>\n",
       "      <td>1954</td>\n",
       "    </tr>\n",
       "    <tr>\n",
       "      <th>1699</th>\n",
       "      <td>White Christmas</td>\n",
       "      <td>Movie</td>\n",
       "      <td>United States</td>\n",
       "      <td>1954</td>\n",
       "    </tr>\n",
       "    <tr>\n",
       "      <th>7954</th>\n",
       "      <td>Scandal in Sorrento</td>\n",
       "      <td>Movie</td>\n",
       "      <td>Italy, France</td>\n",
       "      <td>1955</td>\n",
       "    </tr>\n",
       "    <tr>\n",
       "      <th>8506</th>\n",
       "      <td>The Sign of Venus</td>\n",
       "      <td>Movie</td>\n",
       "      <td>Italy</td>\n",
       "      <td>1955</td>\n",
       "    </tr>\n",
       "  </tbody>\n",
       "</table>\n",
       "</div>"
      ],
      "text/plain": [
       "                                                 title     type  \\\n",
       "4250                 Pioneers: First Women Filmmakers*  TV Show   \n",
       "7790                                    Prelude to War    Movie   \n",
       "8205                              The Battle of Midway    Movie   \n",
       "8660     Undercover: How to Operate Behind Enemy Lines    Movie   \n",
       "8739                Why We Fight: The Battle of Russia    Movie   \n",
       "8763                   WWII: Report from the Aleutians    Movie   \n",
       "8640                                  Tunisian Victory    Movie   \n",
       "8436                                 The Negro Soldier    Movie   \n",
       "8419  The Memphis Belle: A Story of a\\nFlying Fortress    Movie   \n",
       "7930                                        San Pietro    Movie   \n",
       "1331               Five Came Back: The Reference Films  TV Show   \n",
       "7219                           Know Your Enemy - Japan    Movie   \n",
       "7575                          Nazi Concentration Camps    Movie   \n",
       "7743               Pioneers of African-American Cinema  TV Show   \n",
       "7294                                Let There Be Light    Movie   \n",
       "8587                                       Thunderbolt    Movie   \n",
       "2375                                   The Blazing Sun    Movie   \n",
       "1699                                   White Christmas    Movie   \n",
       "7954                               Scandal in Sorrento    Movie   \n",
       "8506                                 The Sign of Venus    Movie   \n",
       "\n",
       "                            country  release_year  \n",
       "4250                  United States          1925  \n",
       "7790                  United States          1942  \n",
       "8205                  United States          1942  \n",
       "8660                  United States          1943  \n",
       "8739                  United States          1943  \n",
       "8763                  United States          1943  \n",
       "8640  United States, United Kingdom          1944  \n",
       "8436                  United States          1944  \n",
       "8419                  United States          1944  \n",
       "7930                  United States          1945  \n",
       "1331                  United States          1945  \n",
       "7219                  United States          1945  \n",
       "7575                  United States          1945  \n",
       "7743                  United States          1946  \n",
       "7294                  United States          1946  \n",
       "8587                  United States          1947  \n",
       "2375                          Egypt          1954  \n",
       "1699                  United States          1954  \n",
       "7954                  Italy, France          1955  \n",
       "8506                          Italy          1955  "
      ]
     },
     "execution_count": 38,
     "metadata": {},
     "output_type": "execute_result"
    }
   ],
   "source": [
    "old = netflix.sort_values(\"release_year\",ascending=True) #sort\n",
    "old[[\"title\",\"type\",\"country\",\"release_year\"]].head(20)"
   ]
  },
  {
   "cell_type": "code",
   "execution_count": 39,
   "id": "4c323cbb",
   "metadata": {},
   "outputs": [
    {
     "data": {
      "text/html": [
       "<div>\n",
       "<style scoped>\n",
       "    .dataframe tbody tr th:only-of-type {\n",
       "        vertical-align: middle;\n",
       "    }\n",
       "\n",
       "    .dataframe tbody tr th {\n",
       "        vertical-align: top;\n",
       "    }\n",
       "\n",
       "    .dataframe thead th {\n",
       "        text-align: right;\n",
       "    }\n",
       "</style>\n",
       "<table border=\"1\" class=\"dataframe\">\n",
       "  <thead>\n",
       "    <tr style=\"text-align: right;\">\n",
       "      <th></th>\n",
       "      <th>title</th>\n",
       "      <th>country</th>\n",
       "      <th>release_year</th>\n",
       "    </tr>\n",
       "  </thead>\n",
       "  <tbody>\n",
       "    <tr>\n",
       "      <th>0</th>\n",
       "      <td>Tayo and Little Wizards</td>\n",
       "      <td>United States</td>\n",
       "      <td>2020</td>\n",
       "    </tr>\n",
       "    <tr>\n",
       "      <th>1</th>\n",
       "      <td>Chhota Bheem</td>\n",
       "      <td>India</td>\n",
       "      <td>2021</td>\n",
       "    </tr>\n",
       "    <tr>\n",
       "      <th>2</th>\n",
       "      <td>Numberblocks</td>\n",
       "      <td>United Kingdom</td>\n",
       "      <td>2021</td>\n",
       "    </tr>\n",
       "    <tr>\n",
       "      <th>3</th>\n",
       "      <td>Mighty Raju</td>\n",
       "      <td>United States</td>\n",
       "      <td>2017</td>\n",
       "    </tr>\n",
       "    <tr>\n",
       "      <th>4</th>\n",
       "      <td>Tobot Galaxy Detectives</td>\n",
       "      <td>United States</td>\n",
       "      <td>2019</td>\n",
       "    </tr>\n",
       "    <tr>\n",
       "      <th>5</th>\n",
       "      <td>Sharkdog</td>\n",
       "      <td>United States, Singapore</td>\n",
       "      <td>2021</td>\n",
       "    </tr>\n",
       "    <tr>\n",
       "      <th>6</th>\n",
       "      <td>Luv Kushh</td>\n",
       "      <td>United States</td>\n",
       "      <td>2012</td>\n",
       "    </tr>\n",
       "    <tr>\n",
       "      <th>7</th>\n",
       "      <td>Kid-E-Cats</td>\n",
       "      <td>Russia</td>\n",
       "      <td>2016</td>\n",
       "    </tr>\n",
       "    <tr>\n",
       "      <th>8</th>\n",
       "      <td>Go! Go! Cory Carson</td>\n",
       "      <td>United States</td>\n",
       "      <td>2021</td>\n",
       "    </tr>\n",
       "    <tr>\n",
       "      <th>9</th>\n",
       "      <td>Mother Goose Club</td>\n",
       "      <td>United States</td>\n",
       "      <td>2016</td>\n",
       "    </tr>\n",
       "  </tbody>\n",
       "</table>\n",
       "</div>"
      ],
      "text/plain": [
       "                     title                   country  release_year\n",
       "0  Tayo and Little Wizards             United States          2020\n",
       "1             Chhota Bheem                     India          2021\n",
       "2             Numberblocks            United Kingdom          2021\n",
       "3              Mighty Raju             United States          2017\n",
       "4  Tobot Galaxy Detectives             United States          2019\n",
       "5                 Sharkdog  United States, Singapore          2021\n",
       "6                Luv Kushh             United States          2012\n",
       "7               Kid-E-Cats                    Russia          2016\n",
       "8      Go! Go! Cory Carson             United States          2021\n",
       "9        Mother Goose Club             United States          2016"
      ]
     },
     "execution_count": 39,
     "metadata": {},
     "output_type": "execute_result"
    }
   ],
   "source": [
    "kids_show=netflix[netflix[\"listed_in\"] == \"Kids' TV\"].reset_index() #displaying famous kids tv shows\n",
    "kids_show[[\"title\",\"country\",\"release_year\"]].head(10)"
   ]
  },
  {
   "cell_type": "code",
   "execution_count": 40,
   "id": "3ba9e029",
   "metadata": {},
   "outputs": [
    {
     "data": {
      "text/html": [
       "<div>\n",
       "<style scoped>\n",
       "    .dataframe tbody tr th:only-of-type {\n",
       "        vertical-align: middle;\n",
       "    }\n",
       "\n",
       "    .dataframe tbody tr th {\n",
       "        vertical-align: top;\n",
       "    }\n",
       "\n",
       "    .dataframe thead th {\n",
       "        text-align: right;\n",
       "    }\n",
       "</style>\n",
       "<table border=\"1\" class=\"dataframe\">\n",
       "  <thead>\n",
       "    <tr style=\"text-align: right;\">\n",
       "      <th></th>\n",
       "      <th>title</th>\n",
       "      <th>country</th>\n",
       "      <th>release_year</th>\n",
       "    </tr>\n",
       "  </thead>\n",
       "  <tbody>\n",
       "    <tr>\n",
       "      <th>0</th>\n",
       "      <td>Kota Factory</td>\n",
       "      <td>India</td>\n",
       "      <td>2021</td>\n",
       "    </tr>\n",
       "    <tr>\n",
       "      <th>1</th>\n",
       "      <td>Jeans</td>\n",
       "      <td>India</td>\n",
       "      <td>1998</td>\n",
       "    </tr>\n",
       "    <tr>\n",
       "      <th>2</th>\n",
       "      <td>Chhota Bheem</td>\n",
       "      <td>India</td>\n",
       "      <td>2021</td>\n",
       "    </tr>\n",
       "    <tr>\n",
       "      <th>3</th>\n",
       "      <td>Dharmakshetra</td>\n",
       "      <td>India</td>\n",
       "      <td>2014</td>\n",
       "    </tr>\n",
       "    <tr>\n",
       "      <th>4</th>\n",
       "      <td>Raja Rasoi Aur Anya Kahaniyan</td>\n",
       "      <td>India</td>\n",
       "      <td>2014</td>\n",
       "    </tr>\n",
       "    <tr>\n",
       "      <th>5</th>\n",
       "      <td>Stories by Rabindranath Tagore</td>\n",
       "      <td>India</td>\n",
       "      <td>2015</td>\n",
       "    </tr>\n",
       "    <tr>\n",
       "      <th>6</th>\n",
       "      <td>Angamaly Diaries</td>\n",
       "      <td>India</td>\n",
       "      <td>2017</td>\n",
       "    </tr>\n",
       "    <tr>\n",
       "      <th>7</th>\n",
       "      <td>Anjaam</td>\n",
       "      <td>India</td>\n",
       "      <td>1994</td>\n",
       "    </tr>\n",
       "    <tr>\n",
       "      <th>8</th>\n",
       "      <td>Dhanak</td>\n",
       "      <td>India</td>\n",
       "      <td>2015</td>\n",
       "    </tr>\n",
       "    <tr>\n",
       "      <th>9</th>\n",
       "      <td>Gurgaon</td>\n",
       "      <td>India</td>\n",
       "      <td>2017</td>\n",
       "    </tr>\n",
       "  </tbody>\n",
       "</table>\n",
       "</div>"
      ],
      "text/plain": [
       "                            title country  release_year\n",
       "0                    Kota Factory   India          2021\n",
       "1                           Jeans   India          1998\n",
       "2                    Chhota Bheem   India          2021\n",
       "3                   Dharmakshetra   India          2014\n",
       "4   Raja Rasoi Aur Anya Kahaniyan   India          2014\n",
       "5  Stories by Rabindranath Tagore   India          2015\n",
       "6                Angamaly Diaries   India          2017\n",
       "7                          Anjaam   India          1994\n",
       "8                          Dhanak   India          2015\n",
       "9                         Gurgaon   India          2017"
      ]
     },
     "execution_count": 40,
     "metadata": {},
     "output_type": "execute_result"
    }
   ],
   "source": [
    "indian_shows=netflix[netflix[\"country\"] == \"India\"].reset_index() #displaying indian shows\n",
    "indian_shows[[\"title\",\"country\",\"release_year\"]].head(10)"
   ]
  },
  {
   "cell_type": "code",
   "execution_count": null,
   "id": "bcacff81",
   "metadata": {},
   "outputs": [],
   "source": []
  },
  {
   "cell_type": "code",
   "execution_count": null,
   "id": "e258025e",
   "metadata": {},
   "outputs": [],
   "source": []
  }
 ],
 "metadata": {
  "kernelspec": {
   "display_name": "Python 3",
   "language": "python",
   "name": "python3"
  },
  "language_info": {
   "codemirror_mode": {
    "name": "ipython",
    "version": 3
   },
   "file_extension": ".py",
   "mimetype": "text/x-python",
   "name": "python",
   "nbconvert_exporter": "python",
   "pygments_lexer": "ipython3",
   "version": "3.8.8"
  }
 },
 "nbformat": 4,
 "nbformat_minor": 5
}
